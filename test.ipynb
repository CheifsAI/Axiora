{
 "cells": [
  {
   "cell_type": "code",
   "execution_count": 1,
   "metadata": {},
   "outputs": [],
   "source": [
    "from Main import quetions_gen\n",
    "from Models import llama3b\n",
    "from OprFuncs import read_file\n",
    "from markdown import markdown"
   ]
  },
  {
   "cell_type": "code",
   "execution_count": 2,
   "metadata": {},
   "outputs": [],
   "source": [
    "llm = llama3b"
   ]
  },
  {
   "cell_type": "code",
   "execution_count": 3,
   "metadata": {},
   "outputs": [
    {
     "name": "stderr",
     "output_type": "stream",
     "text": [
      "<>:1: SyntaxWarning: invalid escape sequence '\\s'\n",
      "<>:1: SyntaxWarning: invalid escape sequence '\\s'\n",
      "C:\\Users\\hasso\\AppData\\Local\\Temp\\ipykernel_19892\\1677397731.py:1: SyntaxWarning: invalid escape sequence '\\s'\n",
      "  df1 = read_file(\"Test_Datasets\\supply_chain_data.csv\")\n"
     ]
    }
   ],
   "source": [
    "df1 = read_file(\"Test_Datasets\\supply_chain_data.csv\")"
   ]
  },
  {
   "cell_type": "code",
   "execution_count": 4,
   "metadata": {},
   "outputs": [
    {
     "name": "stderr",
     "output_type": "stream",
     "text": [
      "d:\\Courses\\codes\\Axiora\\Main.py:82: LangChainDeprecationWarning: The class `LLMChain` was deprecated in LangChain 0.1.17 and will be removed in 1.0. Use :meth:`~RunnableSequence, e.g., `prompt | llm`` instead.\n",
      "  question_chain = LLMChain(\n",
      "d:\\Courses\\codes\\Axiora\\Main.py:88: LangChainDeprecationWarning: The method `Chain.run` was deprecated in langchain 0.1.0 and will be removed in 1.0. Use :meth:`~invoke` instead.\n",
      "  questions = question_chain.run(num=num, data_info=data_info)\n"
     ]
    },
    {
     "name": "stdout",
     "output_type": "stream",
     "text": [
      "<p><strong>What is the average revenue generated per product sold, and how does it compare to the number of products sold?</strong></p>\n",
      "<p><strong>How does shipping cost vary with transportation mode and location?</strong></p>\n"
     ]
    }
   ],
   "source": [
    "result = quetions_gen(llm=llm,dataframe=df1,num=2)\n",
    "for i, question in enumerate(result, 1):\n",
    "    print(markdown(question))"
   ]
  },
  {
   "cell_type": "code",
   "execution_count": 5,
   "metadata": {},
   "outputs": [
    {
     "data": {
      "text/plain": [
       "['**What is the average revenue generated per product sold, and how does it compare to the number of products sold?**',\n",
       " '**How does shipping cost vary with transportation mode and location?**']"
      ]
     },
     "execution_count": 5,
     "metadata": {},
     "output_type": "execute_result"
    }
   ],
   "source": [
    "result"
   ]
  },
  {
   "cell_type": "code",
   "execution_count": null,
   "metadata": {},
   "outputs": [],
   "source": []
  }
 ],
 "metadata": {
  "kernelspec": {
   "display_name": "Python 3",
   "language": "python",
   "name": "python3"
  },
  "language_info": {
   "codemirror_mode": {
    "name": "ipython",
    "version": 3
   },
   "file_extension": ".py",
   "mimetype": "text/x-python",
   "name": "python",
   "nbconvert_exporter": "python",
   "pygments_lexer": "ipython3",
   "version": "3.12.0"
  }
 },
 "nbformat": 4,
 "nbformat_minor": 2
}
