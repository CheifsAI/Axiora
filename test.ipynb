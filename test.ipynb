{
 "cells": [
  {
   "cell_type": "code",
   "execution_count": 50,
   "metadata": {},
   "outputs": [],
   "source": [
    "from Main import codem, csvpd,data_infer,summerizer, llama3b, nulldrop\n",
    "df =  csvpd(\"supply_chain_data.csv\")"
   ]
  },
  {
   "cell_type": "code",
   "execution_count": 45,
   "metadata": {},
   "outputs": [
    {
     "name": "stdout",
     "output_type": "stream",
     "text": [
      "This is a summary of the structure and characteristics of a pandas DataFrame in Python, which represents a table or dataset.\n",
      "\n",
      "**Overview**\n",
      "\n",
      "The DataFrame has:\n",
      "\n",
      "* 100 rows (indexed by a RangeIndex from 0 to 99)\n",
      "* 24 columns (with their respective data types)\n",
      "\n",
      "**Data Types**\n",
      "\n",
      "The columns are classified into three categories based on their data type:\n",
      "\n",
      "1. **Float64** (6 columns):\n",
      "\t* Price\n",
      "\t* Revenue generated\n",
      "\t* Shipping costs\n",
      "\t* Manufacturing costs\n",
      "\t* Defect rates\n",
      "2. **Int64** (9 columns):\n",
      "\t* Availability\n",
      "\t* Number of products sold\n",
      "\t* Stock levels\n",
      "\t* Supplier Lead times\n",
      "\t* Order quantities\n",
      "\t* Shipping times\n",
      "\t* Production volumes\n",
      "\t* Inventory Lead time\n",
      "\t* Manufacturing lead time\n",
      "3. **Object** (9 columns):\n",
      "\t* Product type\n",
      "\t* SKU\n",
      "\t* Customer demographics\n",
      "\t* Shipping carriers\n",
      "\t* Location\n",
      "\t* Supplier name\n",
      "\t* Inspection results\n",
      "\t* Transportation modes\n",
      "\t* Routes\n",
      "\n",
      "Note that the \"memory usage\" is 18.9 KB, indicating a relatively small dataset.\n"
     ]
    }
   ],
   "source": [
    "summerizer(df,llama3b)"
   ]
  },
  {
   "cell_type": "code",
   "execution_count": 53,
   "metadata": {},
   "outputs": [
    {
     "ename": "IndentationError",
     "evalue": "unexpected indent (<string>, line 1)",
     "output_type": "error",
     "traceback": [
      "Traceback \u001b[1;36m(most recent call last)\u001b[0m:\n",
      "\u001b[0m  File \u001b[0;32mc:\\Users\\hasso\\AppData\\Local\\Programs\\Python\\Python312\\Lib\\site-packages\\IPython\\core\\interactiveshell.py:3548\u001b[0m in \u001b[0;35mrun_code\u001b[0m\n    exec(code_obj, self.user_global_ns, self.user_ns)\u001b[0m\n",
      "\u001b[0m  Cell \u001b[0;32mIn[53], line 3\u001b[0m\n    nulldrop(df,llama3b)\u001b[0m\n",
      "\u001b[1;36m  File \u001b[1;32md:\\Courses\\codes\\Axiora\\Main.py:29\u001b[1;36m in \u001b[1;35mnulldrop\u001b[1;36m\n\u001b[1;33m    try:\u001b[1;36m\n",
      "\u001b[1;36m  File \u001b[1;32m<string>:1\u001b[1;36m\u001b[0m\n\u001b[1;33m    df.dropna()\u001b[0m\n\u001b[1;37m    ^\u001b[0m\n\u001b[1;31mIndentationError\u001b[0m\u001b[1;31m:\u001b[0m unexpected indent\n"
     ]
    }
   ],
   "source": [
    "from Main import codem, csvpd,data_infer,summerizer, llama3b, nulldrop, extract_code\n",
    "\n",
    "nulldrop(df,llama3b)"
   ]
  },
  {
   "cell_type": "code",
   "execution_count": 39,
   "metadata": {},
   "outputs": [
    {
     "name": "stdout",
     "output_type": "stream",
     "text": [
      "```python\n",
      "import pandas as pd\n",
      "\n",
      "# Drop rows with any missing values\n",
      "df = df.dropna()\n",
      "\n",
      "# Alternatively, you can specify which columns to remove missing values from\n",
      "df = df.dropna(subset=['column_name'])\n",
      "```\n",
      "\n",
      "Replace `'column_name'` with the name of the column(s) you want to check for missing values.\n"
     ]
    }
   ],
   "source": [
    "response2 = llama3b.invoke(f\"create a code to drop the nulls from the DataFrame named 'df', only include the dropping part, no extra context or reading the file.\")\n",
    "print(response2)"
   ]
  },
  {
   "cell_type": "code",
   "execution_count": 40,
   "metadata": {},
   "outputs": [
    {
     "name": "stdout",
     "output_type": "stream",
     "text": [
      "import pandas as pd\n",
      "\n",
      "# Drop rows with any missing values\n",
      "df = df.dropna()\n",
      "\n",
      "# Alternatively, you can specify which columns to remove missing values from\n",
      "df = df.dropna(subset=['column_name'])\n"
     ]
    }
   ],
   "source": [
    "dropping_nulls_code = extract_code(response2)\n",
    "print(dropping_nulls_code)"
   ]
  },
  {
   "cell_type": "code",
   "execution_count": 43,
   "metadata": {},
   "outputs": [
    {
     "name": "stdout",
     "output_type": "stream",
     "text": [
      "Unexpected exception formatting exception. Falling back to standard exception\n"
     ]
    },
    {
     "name": "stderr",
     "output_type": "stream",
     "text": [
      "Traceback (most recent call last):\n",
      "  File \"c:\\Users\\hasso\\AppData\\Local\\Programs\\Python\\Python312\\Lib\\site-packages\\IPython\\core\\interactiveshell.py\", line 3548, in run_code\n",
      "    exec(code_obj, self.user_global_ns, self.user_ns)\n",
      "  File \"C:\\Users\\hasso\\AppData\\Local\\Temp\\ipykernel_31300\\2827857375.py\", line 1, in <module>\n",
      "    exec(dropping_nulls_code)\n",
      "  File \"<string>\", line 7, in <module>\n",
      "  File \"c:\\Users\\hasso\\AppData\\Local\\Programs\\Python\\Python312\\Lib\\site-packages\\pandas\\core\\frame.py\", line 6418, in dropna\n",
      "    raise KeyError(np.array(subset)[check].tolist())\n",
      "KeyError: ['column_name']\n",
      "\n",
      "During handling of the above exception, another exception occurred:\n",
      "\n",
      "Traceback (most recent call last):\n",
      "  File \"c:\\Users\\hasso\\AppData\\Local\\Programs\\Python\\Python312\\Lib\\site-packages\\IPython\\core\\interactiveshell.py\", line 2142, in showtraceback\n",
      "    stb = self.InteractiveTB.structured_traceback(\n",
      "          ^^^^^^^^^^^^^^^^^^^^^^^^^^^^^^^^^^^^^^^^\n",
      "  File \"c:\\Users\\hasso\\AppData\\Local\\Programs\\Python\\Python312\\Lib\\site-packages\\IPython\\core\\ultratb.py\", line 1435, in structured_traceback\n",
      "    return FormattedTB.structured_traceback(\n",
      "           ^^^^^^^^^^^^^^^^^^^^^^^^^^^^^^^^^\n",
      "  File \"c:\\Users\\hasso\\AppData\\Local\\Programs\\Python\\Python312\\Lib\\site-packages\\IPython\\core\\ultratb.py\", line 1326, in structured_traceback\n",
      "    return VerboseTB.structured_traceback(\n",
      "           ^^^^^^^^^^^^^^^^^^^^^^^^^^^^^^^\n",
      "  File \"c:\\Users\\hasso\\AppData\\Local\\Programs\\Python\\Python312\\Lib\\site-packages\\IPython\\core\\ultratb.py\", line 1173, in structured_traceback\n",
      "    formatted_exception = self.format_exception_as_a_whole(etype, evalue, etb, number_of_lines_of_context,\n",
      "                          ^^^^^^^^^^^^^^^^^^^^^^^^^^^^^^^^^^^^^^^^^^^^^^^^^^^^^^^^^^^^^^^^^^^^^^^^^^^^^^^^\n",
      "  File \"c:\\Users\\hasso\\AppData\\Local\\Programs\\Python\\Python312\\Lib\\site-packages\\IPython\\core\\ultratb.py\", line 1063, in format_exception_as_a_whole\n",
      "    self.get_records(etb, number_of_lines_of_context, tb_offset) if etb else []\n",
      "    ^^^^^^^^^^^^^^^^^^^^^^^^^^^^^^^^^^^^^^^^^^^^^^^^^^^^^^^^^^^^\n",
      "  File \"c:\\Users\\hasso\\AppData\\Local\\Programs\\Python\\Python312\\Lib\\site-packages\\IPython\\core\\ultratb.py\", line 1155, in get_records\n",
      "    FrameInfo(\n",
      "  File \"c:\\Users\\hasso\\AppData\\Local\\Programs\\Python\\Python312\\Lib\\site-packages\\IPython\\core\\ultratb.py\", line 780, in __init__\n",
      "    ix = inspect.getsourcelines(frame)\n",
      "         ^^^^^^^^^^^^^^^^^^^^^^^^^^^^^\n",
      "  File \"c:\\Users\\hasso\\AppData\\Local\\Programs\\Python\\Python312\\Lib\\inspect.py\", line 1264, in getsourcelines\n",
      "    lines, lnum = findsource(object)\n",
      "                  ^^^^^^^^^^^^^^^^^^\n",
      "  File \"c:\\Users\\hasso\\AppData\\Local\\Programs\\Python\\Python312\\Lib\\inspect.py\", line 1093, in findsource\n",
      "    raise OSError('could not get source code')\n",
      "OSError: could not get source code\n"
     ]
    }
   ],
   "source": [
    "exec(dropping_nulls_code)"
   ]
  },
  {
   "cell_type": "code",
   "execution_count": 47,
   "metadata": {},
   "outputs": [],
   "source": [
    "import pandas as pd\n",
    "df = pd.DataFrame({\n",
    "    \"A\": [1, None, 3],\n",
    "    \"B\": [None, 2, 3],\n",
    "    \"C\": [1, 2, None]\n",
    "})\n"
   ]
  },
  {
   "cell_type": "code",
   "execution_count": 48,
   "metadata": {},
   "outputs": [
    {
     "name": "stdout",
     "output_type": "stream",
     "text": [
      "Raw LLM Response:\n",
      " ```python\n",
      "import pandas as pd\n",
      "\n",
      "# Assuming df is your DataFrame and you want to drop rows with null values in all columns\n",
      "df.dropna(how='all', inplace=True)\n",
      "\n",
      "# Alternatively, if you want to drop rows with null values in at least one column\n",
      "df.dropna(thresh=len(df.columns), inplace=True)\n",
      "```\n",
      "Extracted Code:\n",
      " import pandas as pd\n",
      "\n",
      "# Assuming df is your DataFrame and you want to drop rows with null values in all columns\n",
      "df.dropna(how='all', inplace=True)\n",
      "\n",
      "# Alternatively, if you want to drop rows with null values in at least one column\n",
      "df.dropna(thresh=len(df.columns), inplace=True)\n",
      "<class 'pandas.core.frame.DataFrame'>\n",
      "Index: 0 entries\n",
      "Data columns (total 3 columns):\n",
      " #   Column  Non-Null Count  Dtype  \n",
      "---  ------  --------------  -----  \n",
      " 0   A       0 non-null      float64\n",
      " 1   B       0 non-null      float64\n",
      " 2   C       0 non-null      float64\n",
      "dtypes: float64(3)\n",
      "memory usage: 0.0 bytes\n"
     ]
    }
   ],
   "source": [
    "nulldrop(df, llama3b)"
   ]
  },
  {
   "cell_type": "code",
   "execution_count": null,
   "metadata": {},
   "outputs": [],
   "source": []
  }
 ],
 "metadata": {
  "kernelspec": {
   "display_name": "Python 3",
   "language": "python",
   "name": "python3"
  },
  "language_info": {
   "codemirror_mode": {
    "name": "ipython",
    "version": 3
   },
   "file_extension": ".py",
   "mimetype": "text/x-python",
   "name": "python",
   "nbconvert_exporter": "python",
   "pygments_lexer": "ipython3",
   "version": "3.12.0"
  }
 },
 "nbformat": 4,
 "nbformat_minor": 2
}
