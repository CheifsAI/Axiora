{
 "cells": [
  {
   "cell_type": "code",
   "execution_count": 1,
   "metadata": {},
   "outputs": [],
   "source": [
    "from langchain.prompts import PromptTemplate\n",
    "from langchain.chains import LLMChain\n",
    "from langchain_ollama import OllamaLLM\n",
    "import os"
   ]
  },
  {
   "cell_type": "code",
   "execution_count": 5,
   "metadata": {},
   "outputs": [],
   "source": [
    "llama3b = OllamaLLM(model=\"llama3.2:3b\")\n",
    "input=\"what are of some theories about the relationship between unemployment and inflation \"\n",
    "output=llama3b.invoke(input)"
   ]
  },
  {
   "cell_type": "code",
   "execution_count": 6,
   "metadata": {},
   "outputs": [
    {
     "name": "stdout",
     "output_type": "stream",
     "text": [
      "There are several theoretical frameworks that attempt to explain the relationship between unemployment and inflation. Here are some of the most popular ones:\n",
      "\n",
      "1. **Monetarist Theory**: This theory, developed by Milton Friedman, suggests that there is a direct link between unemployment and inflation. According to this view, when unemployment falls, aggregate demand increases, leading to higher prices (inflation). The reasoning is as follows:\n",
      " * When people are unemployed, they have more time and resources to spend on goods and services.\n",
      " * As employment rises, the labor force expands, leading to increased aggregate demand.\n",
      " * Higher aggregate demand leads to higher prices, resulting in inflation.\n",
      "\n",
      "2. **Keynesian Theory**: This theory, developed by John Maynard Keynes, suggests that unemployment is a temporary phenomenon caused by economic downturns, such as recessions or depressions. According to this view:\n",
      " * During a recession, the economy experiences a decline in aggregate demand, leading to higher unemployment.\n",
      " * As the economy recovers and unemployment falls, aggregate demand increases, which can lead to inflation.\n",
      "\n",
      "3. **Natural Rate Theory**: This theory, developed by Robert Lucas and Thomas Sargent, suggests that there is an equilibrium level of unemployment known as the natural rate, below which the economy will experience persistent inflationary pressures.\n",
      " * The natural rate is determined by factors such as labor market rigidities, technological changes, and expectations.\n",
      "\n",
      "4. **Monetarist- Keynesian Synthesis**: This theory combines elements of both monetarism and Keynesian economics to explain the relationship between unemployment and inflation.\n",
      " * According to this view, the money supply growth affects aggregate demand, which in turn influences unemployment and inflation.\n",
      "\n",
      "5. **New Classical Theory**: This theory, developed by economists such as Robert Lucas and Thomas Sargent, suggests that unemployment is a result of rational expectations about future economic conditions.\n",
      " * The new classical model predicts that unemployment will tend to be low in the long run because people have rational expectations about the economy's future performance.\n",
      "\n",
      "6. **New Keynesian Theory**: This theory, developed by economists such as Gregory Mankiw and Jordi Galí, suggests that inflation is influenced by sticky prices, which are rigid or inflexible prices.\n",
      " * According to this view, when unemployment falls, aggregate demand increases, leading to higher prices (inflation).\n",
      "\n",
      "7. **Supply-Side Theory**: This theory, developed by economists such as Paul Volcker and Arthur Laffer, suggests that economic growth and low inflation require a strong labor market with low unemployment.\n",
      " * The supply-side model predicts that an increase in the labor force will lead to increased productivity, which can help combat inflation.\n",
      "\n",
      "8. **Endogenous Growth Theory**: This theory, developed by economists such as Paul Romer and Joseph Stiglitz, suggests that economic growth is influenced by endogenous factors, such as technological innovation and institutional changes.\n",
      " * According to this view, an increase in the labor force can lead to increased productivity, which can help combat inflation.\n",
      "\n",
      "These are some of the main theoretical frameworks that attempt to explain the relationship between unemployment and inflation. While there is no consensus on a single theory, many economists agree that the relationship between these two macroeconomic variables is complex and influenced by multiple factors.\n"
     ]
    }
   ],
   "source": [
    "print(output)"
   ]
  },
  {
   "cell_type": "code",
   "execution_count": 10,
   "metadata": {},
   "outputs": [
    {
     "name": "stdout",
     "output_type": "stream",
     "text": [
      "There are several theoretical frameworks that attempt to explain the relationship between unemployment and inflation. Here are some of the most popular ones:\n",
      "\n",
      "1. **Phillips Curve Theory**: This theory, developed by Alban William Phillips in 1958, suggests a negative trade-off between unemployment and inflation. According to this theory, when unemployment is high, inflation tends to be low, and vice versa. However, this relationship has been disputed, as it was not always observed in practice.\n",
      "2. **Monetarist Theory**: This theory, developed by Milton Friedman and others, suggests that the rate of change in money supply (M1) is a more important determinant of inflation than the level of unemployment. According to monetarists, an increase in M1 leads to higher inflation, regardless of the level of unemployment.\n",
      "3. **New Keynesian Theory**: This theory attempts to reconcile the trade-off between unemployment and inflation by introducing microfoundations that explain how wage-setting and price-setting decisions are affected by monetary policy. New Keynesians argue that the relationship between unemployment and inflation is not always linear, but rather depends on the degree of sticky wages and prices.\n",
      "4. **Quantity Theory of Money**: This theory, developed in the 19th century, states that the general price level is determined by the quantity of money supplied and demanded in the economy. According to this theory, an increase in the money supply leads to higher inflation, regardless of the level of unemployment.\n",
      "5. **Rational Expectations Theory**: This theory, developed in the 1970s, suggests that agents' expectations about future inflation are important in determining their behavior. Rational expectations models imply that there is no inherent trade-off between unemployment and inflation, as agents adjust to changes in monetary policy and other exogenous shocks.\n",
      "6. **Sticky Price Theory**: This theory, developed by George Akerlof and others, suggests that prices are not always flexible, but rather stick to their pre-adjustment levels due to various frictions. Sticky price models imply that there is no inherent trade-off between unemployment and inflation, as agents wait for prices to adjust before adjusting their behavior.\n",
      "7. **Natural Rate of Unemployment Theory**: This theory, developed by economists such as John Taylor and David Romer, suggests that the natural rate of unemployment (the level at which an economy would be in equilibrium with full employment) is more important than short-term fluctuations in unemployment rates when it comes to determining inflation expectations.\n",
      "\n",
      "It's worth noting that these theories are not mutually exclusive, and many economists believe that a combination of factors influences the relationship between unemployment and inflation. The debate continues, and there is no consensus on which theory best explains the relationship between the two variables."
     ]
    }
   ],
   "source": [
    "for chunk in llama3b.stream(input):\n",
    "    print(chunk , end=\"\", flush=True)\n"
   ]
  },
  {
   "cell_type": "code",
   "execution_count": 17,
   "metadata": {},
   "outputs": [
    {
     "name": "stdout",
     "output_type": "stream",
     "text": [
      "[\"Here are some common theories about the relationship between unemployment and inflation:\\n\\n1. **Phillips Curve Theory**: This theory, developed by Alban William Phillips in 1958, suggests that there is a trade-off between unemployment and inflation. According to the curve, as unemployment falls (i.e., more people are employed), inflation rises, and vice versa. However, this relationship is often depicted as an inverted U-shaped curve, where there is a stable point at which both unemployment and inflation are low.\\n\\n2. **Demand-Pull Inflation**: This theory suggests that inflation is caused by excessive demand for goods and services in the economy. When unemployment is low, more people have disposable income to spend on goods and services, leading to increased aggregate demand and higher prices.\\n\\n3. **Cost-Push Inflation**: This theory proposes that inflation is driven by cost increases, such as wage hikes or increases in raw materials costs. If unemployment is high, firms may be able to raise wages without a significant increase in production costs, leading to inflation.\\n\\n4. **Monetarist Theory**: Monetarists argue that the money supply and credit levels are the primary drivers of inflation. According to this theory, when unemployment is low, there is more demand for goods and services, which can lead to increased spending on consumer goods and services, causing prices to rise.\\n\\n5. **Supply-Side Inflation**: This theory suggests that inflation is caused by supply-side factors, such as technological changes or natural disasters, that reduce the availability of goods and services. When unemployment is high, there may be more workers who are not being utilized, which can lead to labor shortages and higher prices.\\n\\n6. **Stagflation Theory**: Stagflation refers to a situation in which both inflation and unemployment rise simultaneously. This theory proposes that stagflation occurs when the economy is experiencing a combination of demand-pull and supply-side shocks, leading to a perfect storm of inflation and high unemployment.\\n\\n7. **New Keynesian Inflation**: This theory suggests that inflation is driven by short-term expectations about future prices, rather than long-term fundamentals like productivity growth or resource constraints. According to this theory, when unemployment is low, workers may expect higher wages in the future, leading to higher expected inflation rates.\\n\\n8. **Real Business Cycle Theory**: This theory proposes that business cycles are driven by real shocks, such as technological changes or natural disasters, rather than monetary policy. According to this theory, when unemployment is high, it's because the economy is experiencing a downturn, and prices may rise due to reduced supply.\\n\\n9. **Rational Expectations Theory**: This theory suggests that inflation expectations are rational and reflect an accurate assessment of future price movements. According to this theory, when unemployment is low, workers may expect higher wages in the future, leading to higher expected inflation rates.\\n\\n10. **Empirical Evidence**: Many studies have tested these theories using econometric techniques, such as time-series analysis or cross-country comparisons. While there is some evidence supporting each of these theories, many researchers argue that the relationship between unemployment and inflation is more complex and nuanced than previously thought.\\n\\nIt's worth noting that these theories are not mutually exclusive, and many economists believe that a combination of factors contributes to the relationship between unemployment and inflation.\", 'A Confusion Matrix (CM) is a square table used to evaluate the performance of a classification model. It provides a clear and concise way to visualize and analyze the results of a machine learning algorithm, particularly in the context of binary classification problems.\\n\\n**What does a Confusion Matrix contain?**\\n\\nA typical Confusion Matrix has four quadrants:\\n\\n1. **True Positives (TP)**: Correctly predicted positive outcomes\\n2. **False Positives (FP)**: Incorrectly predicted positive outcomes (i.e., predicted positive, but actual negative)\\n3. **True Negatives (TN)**: Correctly predicted negative outcomes\\n4. **False Negatives (FN)**: Incorrectly predicted negative outcomes (i.e., predicted negative, but actual positive)\\n\\nEach row and column represents a category of the dataset. The values in each cell are:\\n\\n* TP: Number of true positives\\n* FP: Number of false positives\\n* TN: Number of true negatives\\n* FN: Number of false negatives\\n\\n**Example Confusion Matrix**\\n\\n|  | Predicted Positive (P) | Predicted Negative (N) |\\n| --- | --- | --- |\\n| **Actual Positive (A)** | TP | FP |\\n| **Actual Negative (B)** | FN | TN |\\n\\nIn this example, TP = True Positives, FP = False Positives, TN = True Negatives, and FN = False Negatives.\\n\\n**Interpretation of a Confusion Matrix**\\n\\nTo interpret the results of a Confusion Matrix:\\n\\n1. **Accuracy**: The overall accuracy is calculated as (TP + TN) / (TP + FP + TN + FN). This gives you an idea of how well your model performed.\\n2. **Precision**: Precision = TP / (TP + FP). A higher precision means fewer false positives.\\n3. **Recall**: Recall = TP / (TP + FN). A higher recall means more true positives.\\n4. **F1 Score**: F1 score is the harmonic mean of precision and recall.\\n\\n**Benefits of using a Confusion Matrix**\\n\\nUsing a Confusion Matrix provides several benefits:\\n\\n* Easy to visualize and interpret results\\n* Helps identify biases in the model or dataset\\n* Allows for comparison with other models or datasets\\n* Provides insights into where the model needs improvement\\n\\nIn summary, a Confusion Matrix is a useful tool for evaluating the performance of a classification model and identifying areas for improvement.']\n"
     ]
    }
   ],
   "source": [
    "print(llama3b.batch([\"what are of some theories about the relationship between unemployment and inflation \",\"what is confusion matrix\"]))"
   ]
  },
  {
   "cell_type": "code",
   "execution_count": 36,
   "metadata": {},
   "outputs": [
    {
     "name": "stdout",
     "output_type": "stream",
     "text": [
      "There are several theories that attempt to explain the relationship between unemployment and inflation. Here are some of the most commonly cited ones:\n",
      "\n",
      "1. **Monetarist Theory**: According to this theory, inflation is primarily caused by an increase in the money supply, which can be influenced by monetary policy (e.g., central bank actions). Unemployment is seen as a consequence of inflation, rather than the other way around.\n",
      "2. **Keynesian Theory**: This theory, developed by John Maynard Keynes, suggests that both unemployment and inflation are closely related to aggregate demand and supply imbalances. When unemployment is high, aggregate demand is low, leading to lower prices (deflation) and potentially higher employment rates.\n",
      "3. **Classical Theory**: The classical theory holds that the price level is determined by the fundamental forces of supply and demand in a market economy. According to this view, inflation is independent of unemployment and will only occur when the economy is growing too quickly or if there are external shocks (e.g., war, natural disasters).\n",
      "4. **Animal Spirits Theory**: This theory, developed by John Kenneth Galbraith, suggests that economic behavior is influenced by psychological factors such as speculation, fear, and uncertainty. When people anticipate inflation, they may hoard resources, leading to higher prices. Unemployment can also be self-reinforcing in this scenario.\n",
      "5. **Phillips Curve Theory**: The Phillips Curve theory was developed in the 1950s by Alban William Phillips and is based on the idea that a trade-off exists between unemployment and inflation rates. According to this curve, there is an inverse relationship between unemployment and inflation; as one rises, the other falls.\n",
      "6. **New Classical Theory**: This theory views inflation as primarily caused by monetary policy mistakes or errors in expectations rather than aggregate demand imbalances. Unemployment is seen as a separate issue from inflation, which may be influenced by external factors like technological change or globalization.\n",
      "7. **Endogenous Growth Theory**: According to this theory, economic growth and employment rates are endogenously determined, meaning that they depend on the state of the economy rather than external shocks. High unemployment can lead to lower prices (deflation) due to reduced aggregate demand.\n",
      "\n",
      "While each theory has its strengths and weaknesses, it's worth noting that the relationship between unemployment and inflation is often complex and context-dependent."
     ]
    }
   ],
   "source": [
    "import asyncio\n",
    "async def call_llm():\n",
    "\n",
    "     for chunk in  llama3b.stream(input):\n",
    "        print(chunk, end=\"\", flush=True)\n",
    "\n",
    "\n",
    "asyncio.run(call_llm()) \n"
   ]
  },
  {
   "cell_type": "code",
   "execution_count": null,
   "metadata": {},
   "outputs": [],
   "source": []
  }
 ],
 "metadata": {
  "kernelspec": {
   "display_name": "Python 3",
   "language": "python",
   "name": "python3"
  },
  "language_info": {
   "codemirror_mode": {
    "name": "ipython",
    "version": 3
   },
   "file_extension": ".py",
   "mimetype": "text/x-python",
   "name": "python",
   "nbconvert_exporter": "python",
   "pygments_lexer": "ipython3",
   "version": "3.12.0"
  }
 },
 "nbformat": 4,
 "nbformat_minor": 2
}
