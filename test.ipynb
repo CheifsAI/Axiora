{
 "cells": [
  {
   "cell_type": "code",
   "execution_count": 23,
   "metadata": {},
   "outputs": [],
   "source": [
    "from langchain.prompts import PromptTemplate\n",
    "from langchain.chains import LLMChain\n",
    "from langchain_ollama import OllamaLLM\n",
    "import os\n",
    "from langchain.cache import InMemoryCache \n",
    "from langchain.globals import set_llm_cache\n",
    "\n"
   ]
  },
  {
   "cell_type": "code",
   "execution_count": 14,
   "metadata": {},
   "outputs": [],
   "source": [
    "llama3b = OllamaLLM(model=\"llama3.2:3b\")\n",
    "input=\"what are of some theories about the relationship between unemployment and inflation \"\n",
    "output=llama3b.invoke(input)"
   ]
  },
  {
   "cell_type": "code",
   "execution_count": 6,
   "metadata": {},
   "outputs": [
    {
     "name": "stdout",
     "output_type": "stream",
     "text": [
      "There are several theoretical frameworks that attempt to explain the relationship between unemployment and inflation. Here are some of the most popular ones:\n",
      "\n",
      "1. **Monetarist Theory**: This theory, developed by Milton Friedman, suggests that there is a direct link between unemployment and inflation. According to this view, when unemployment falls, aggregate demand increases, leading to higher prices (inflation). The reasoning is as follows:\n",
      " * When people are unemployed, they have more time and resources to spend on goods and services.\n",
      " * As employment rises, the labor force expands, leading to increased aggregate demand.\n",
      " * Higher aggregate demand leads to higher prices, resulting in inflation.\n",
      "\n",
      "2. **Keynesian Theory**: This theory, developed by John Maynard Keynes, suggests that unemployment is a temporary phenomenon caused by economic downturns, such as recessions or depressions. According to this view:\n",
      " * During a recession, the economy experiences a decline in aggregate demand, leading to higher unemployment.\n",
      " * As the economy recovers and unemployment falls, aggregate demand increases, which can lead to inflation.\n",
      "\n",
      "3. **Natural Rate Theory**: This theory, developed by Robert Lucas and Thomas Sargent, suggests that there is an equilibrium level of unemployment known as the natural rate, below which the economy will experience persistent inflationary pressures.\n",
      " * The natural rate is determined by factors such as labor market rigidities, technological changes, and expectations.\n",
      "\n",
      "4. **Monetarist- Keynesian Synthesis**: This theory combines elements of both monetarism and Keynesian economics to explain the relationship between unemployment and inflation.\n",
      " * According to this view, the money supply growth affects aggregate demand, which in turn influences unemployment and inflation.\n",
      "\n",
      "5. **New Classical Theory**: This theory, developed by economists such as Robert Lucas and Thomas Sargent, suggests that unemployment is a result of rational expectations about future economic conditions.\n",
      " * The new classical model predicts that unemployment will tend to be low in the long run because people have rational expectations about the economy's future performance.\n",
      "\n",
      "6. **New Keynesian Theory**: This theory, developed by economists such as Gregory Mankiw and Jordi Galí, suggests that inflation is influenced by sticky prices, which are rigid or inflexible prices.\n",
      " * According to this view, when unemployment falls, aggregate demand increases, leading to higher prices (inflation).\n",
      "\n",
      "7. **Supply-Side Theory**: This theory, developed by economists such as Paul Volcker and Arthur Laffer, suggests that economic growth and low inflation require a strong labor market with low unemployment.\n",
      " * The supply-side model predicts that an increase in the labor force will lead to increased productivity, which can help combat inflation.\n",
      "\n",
      "8. **Endogenous Growth Theory**: This theory, developed by economists such as Paul Romer and Joseph Stiglitz, suggests that economic growth is influenced by endogenous factors, such as technological innovation and institutional changes.\n",
      " * According to this view, an increase in the labor force can lead to increased productivity, which can help combat inflation.\n",
      "\n",
      "These are some of the main theoretical frameworks that attempt to explain the relationship between unemployment and inflation. While there is no consensus on a single theory, many economists agree that the relationship between these two macroeconomic variables is complex and influenced by multiple factors.\n"
     ]
    }
   ],
   "source": [
    "print(output)"
   ]
  },
  {
   "cell_type": "code",
   "execution_count": 15,
   "metadata": {},
   "outputs": [
    {
     "name": "stdout",
     "output_type": "stream",
     "text": [
      "There are several theoretical frameworks that attempt to explain the relationship between unemployment and inflation. Here are some of the most popular ones:\n",
      "\n",
      "1. **Keynesian Theory**: According to Keynes, when unemployment is high, aggregate demand is low, leading to deflation (a decrease in prices). As people spend more money as they look for work, aggregate demand increases, causing prices to rise (inflation).\n",
      "2. **Monetarist Theory**: Monetarists argue that inflation is primarily driven by monetary policy, particularly the growth of the money supply. When there is too much money circulating in the economy, it can lead to inflation, regardless of unemployment levels.\n",
      "3. **New Classical Theory**: New classical economists argue that inflation is caused by underlying factors such as economic growth, technological progress, and population growth. Unemployment is not a primary driver of inflation.\n",
      "4. **Supply-Side Theory**: Supply-siders believe that inflation is primarily driven by supply-side shocks, such as changes in production costs or technology, rather than demand-side factors like unemployment.\n",
      "5. **Cost-Push Theory**: This theory suggests that inflation is caused by increases in production costs, such as wages and raw materials. Unemployment can contribute to inflation if it leads to higher wages due to labor shortages or upward pressure on prices.\n",
      "6. **Demand-Pull Theory**: Demand-pull theorists argue that inflation is driven by excessive aggregate demand, which can be caused by various factors, including low unemployment rates, government spending, or monetary policy.\n",
      "7. **Phillips Curve Theory**: The Phillips curve theory suggests that there is an inverse relationship between unemployment and inflation, meaning that as unemployment falls, inflation rises, and vice versa. However, this relationship is now widely considered to have been challenged by the discovery of sticky wages and other factors.\n",
      "\n",
      "More recent theories, such as:\n",
      "\n",
      "1. **Monetary Policy Uncertainty Theory**: This theory suggests that uncertainty about future monetary policy can affect inflation expectations, leading to higher inflation even in the absence of high unemployment.\n",
      "2. **Sticky Wage Theory**: Sticky wage theorists argue that wages are not perfectly flexible and can lead to inflation when there is strong labor demand, regardless of unemployment levels.\n",
      "3. **Rise of Globalization Theory**: Some economists argue that globalization has led to a decrease in inflation expectations, making it more difficult for governments to achieve high inflation rates, even in the absence of low unemployment.\n",
      "\n",
      "These theories are not mutually exclusive, and many economists believe that the relationship between unemployment and inflation is complex and influenced by multiple factors."
     ]
    }
   ],
   "source": [
    "for chunk in llama3b.stream(input):\n",
    "    print(chunk , end=\"\", flush=True)\n"
   ]
  },
  {
   "cell_type": "code",
   "execution_count": 17,
   "metadata": {},
   "outputs": [
    {
     "name": "stdout",
     "output_type": "stream",
     "text": [
      "[\"Here are some common theories about the relationship between unemployment and inflation:\\n\\n1. **Phillips Curve Theory**: This theory, developed by Alban William Phillips in 1958, suggests that there is a trade-off between unemployment and inflation. According to the curve, as unemployment falls (i.e., more people are employed), inflation rises, and vice versa. However, this relationship is often depicted as an inverted U-shaped curve, where there is a stable point at which both unemployment and inflation are low.\\n\\n2. **Demand-Pull Inflation**: This theory suggests that inflation is caused by excessive demand for goods and services in the economy. When unemployment is low, more people have disposable income to spend on goods and services, leading to increased aggregate demand and higher prices.\\n\\n3. **Cost-Push Inflation**: This theory proposes that inflation is driven by cost increases, such as wage hikes or increases in raw materials costs. If unemployment is high, firms may be able to raise wages without a significant increase in production costs, leading to inflation.\\n\\n4. **Monetarist Theory**: Monetarists argue that the money supply and credit levels are the primary drivers of inflation. According to this theory, when unemployment is low, there is more demand for goods and services, which can lead to increased spending on consumer goods and services, causing prices to rise.\\n\\n5. **Supply-Side Inflation**: This theory suggests that inflation is caused by supply-side factors, such as technological changes or natural disasters, that reduce the availability of goods and services. When unemployment is high, there may be more workers who are not being utilized, which can lead to labor shortages and higher prices.\\n\\n6. **Stagflation Theory**: Stagflation refers to a situation in which both inflation and unemployment rise simultaneously. This theory proposes that stagflation occurs when the economy is experiencing a combination of demand-pull and supply-side shocks, leading to a perfect storm of inflation and high unemployment.\\n\\n7. **New Keynesian Inflation**: This theory suggests that inflation is driven by short-term expectations about future prices, rather than long-term fundamentals like productivity growth or resource constraints. According to this theory, when unemployment is low, workers may expect higher wages in the future, leading to higher expected inflation rates.\\n\\n8. **Real Business Cycle Theory**: This theory proposes that business cycles are driven by real shocks, such as technological changes or natural disasters, rather than monetary policy. According to this theory, when unemployment is high, it's because the economy is experiencing a downturn, and prices may rise due to reduced supply.\\n\\n9. **Rational Expectations Theory**: This theory suggests that inflation expectations are rational and reflect an accurate assessment of future price movements. According to this theory, when unemployment is low, workers may expect higher wages in the future, leading to higher expected inflation rates.\\n\\n10. **Empirical Evidence**: Many studies have tested these theories using econometric techniques, such as time-series analysis or cross-country comparisons. While there is some evidence supporting each of these theories, many researchers argue that the relationship between unemployment and inflation is more complex and nuanced than previously thought.\\n\\nIt's worth noting that these theories are not mutually exclusive, and many economists believe that a combination of factors contributes to the relationship between unemployment and inflation.\", 'A Confusion Matrix (CM) is a square table used to evaluate the performance of a classification model. It provides a clear and concise way to visualize and analyze the results of a machine learning algorithm, particularly in the context of binary classification problems.\\n\\n**What does a Confusion Matrix contain?**\\n\\nA typical Confusion Matrix has four quadrants:\\n\\n1. **True Positives (TP)**: Correctly predicted positive outcomes\\n2. **False Positives (FP)**: Incorrectly predicted positive outcomes (i.e., predicted positive, but actual negative)\\n3. **True Negatives (TN)**: Correctly predicted negative outcomes\\n4. **False Negatives (FN)**: Incorrectly predicted negative outcomes (i.e., predicted negative, but actual positive)\\n\\nEach row and column represents a category of the dataset. The values in each cell are:\\n\\n* TP: Number of true positives\\n* FP: Number of false positives\\n* TN: Number of true negatives\\n* FN: Number of false negatives\\n\\n**Example Confusion Matrix**\\n\\n|  | Predicted Positive (P) | Predicted Negative (N) |\\n| --- | --- | --- |\\n| **Actual Positive (A)** | TP | FP |\\n| **Actual Negative (B)** | FN | TN |\\n\\nIn this example, TP = True Positives, FP = False Positives, TN = True Negatives, and FN = False Negatives.\\n\\n**Interpretation of a Confusion Matrix**\\n\\nTo interpret the results of a Confusion Matrix:\\n\\n1. **Accuracy**: The overall accuracy is calculated as (TP + TN) / (TP + FP + TN + FN). This gives you an idea of how well your model performed.\\n2. **Precision**: Precision = TP / (TP + FP). A higher precision means fewer false positives.\\n3. **Recall**: Recall = TP / (TP + FN). A higher recall means more true positives.\\n4. **F1 Score**: F1 score is the harmonic mean of precision and recall.\\n\\n**Benefits of using a Confusion Matrix**\\n\\nUsing a Confusion Matrix provides several benefits:\\n\\n* Easy to visualize and interpret results\\n* Helps identify biases in the model or dataset\\n* Allows for comparison with other models or datasets\\n* Provides insights into where the model needs improvement\\n\\nIn summary, a Confusion Matrix is a useful tool for evaluating the performance of a classification model and identifying areas for improvement.']\n"
     ]
    }
   ],
   "source": [
    "print(llama3b.batch([\"what are of some theories about the relationship between unemployment and inflation \",\"what is confusion matrix\"]))"
   ]
  },
  {
   "cell_type": "code",
   "execution_count": 20,
   "metadata": {},
   "outputs": [
    {
     "name": "stdout",
     "output_type": "stream",
     "text": [
      "There are several theories that attempt to explain the relationship between unemployment and inflation. Here are some of the most influential ones:\n",
      "\n",
      "1. **Phillips Curve Theory**: This theory, developed by Alban William Phillips in 1958, suggests that a trade-off exists between unemployment and inflation. According to this theory, as unemployment falls, inflation rises, and vice versa. The curve shows an inverse relationship between the two variables.\n",
      "\n",
      "2. **Monetarist Theory**: Milton Friedman's monetarist theory proposes that inflation is primarily caused by an increase in the money supply. When the central bank prints more money, it increases the amount of money available for borrowing, leading to higher prices and inflation. This theory suggests that unemployment is not directly related to inflation.\n",
      "\n",
      "3. **Keynesian Theory**: John Maynard Keynes' theory argues that aggregate demand (AD) plays a crucial role in determining the level of employment and inflation. According to this theory, during times of high unemployment, aggregate demand is low, leading to deflation. Conversely, when aggregate demand is strong, it leads to higher inflation.\n",
      "\n",
      "4. **Supply-Side Theory**: This theory suggests that economic growth and low unemployment are driven by factors such as technological progress, human capital, and business investment. According to this theory, a decrease in unemployment does not necessarily lead to higher inflation.\n",
      "\n",
      "5. **Demand-Pull Theory**: This theory states that inflation is caused by an increase in aggregate demand, which leads to a shortage of goods and services. When the economy is growing rapidly, it can lead to higher prices due to increased demand for resources.\n",
      "\n",
      "6. **Cost Push Theory**: This theory suggests that inflation is caused by increases in production costs, such as wages or raw materials. As these costs rise, businesses pass them on to consumers through higher prices.\n",
      "\n",
      "7. **Fisher-Phillips Curve**: Robert Fisher and Alban Phillips (1953) developed this theory, which shows the relationship between unemployment and inflation as a linear function. This curve is similar to the Phillips Curve but with an upward-sloping trendline.\n",
      "\n",
      "8. **Modern Macroeconomics Theory**: Modern macroeconomic theories, such as New Classical Economics and New Keynesian Economics, argue that the relationship between unemployment and inflation is more complex than previously thought. These theories suggest that inflation is influenced by a variety of factors, including monetary policy, fiscal policy, and external shocks.\n",
      "\n",
      "9. **Animal Spirits Theory**: This theory, developed by economist Joseph Stiglitz, suggests that expectations and animal spirits play a crucial role in determining the relationship between unemployment and inflation. According to this theory, agents' expectations about future economic conditions influence their decisions, which can lead to changes in employment and inflation.\n",
      "\n",
      "10. **Distributed-Lag Theory**: This theory proposes that the effect of changes in unemployment on inflation is delayed due to the time lag between the change in unemployment and its impact on aggregate demand."
     ]
    }
   ],
   "source": [
    "import asyncio\n",
    "\n",
    "async def call_llm():\n",
    "    for chunk in llama3b.stream(input):\n",
    "        print(chunk, end=\"\", flush=True)\n",
    "\n",
    "# Directly use await in Colab\n",
    "await call_llm()\n"
   ]
  },
  {
   "cell_type": "code",
   "execution_count": 29,
   "metadata": {},
   "outputs": [
    {
     "data": {
      "text/plain": [
       "\"Here's a joke:\\n\\nWhat do you call a fake noodle?\\n\\nAn impasta.\""
      ]
     },
     "execution_count": 29,
     "metadata": {},
     "output_type": "execute_result"
    }
   ],
   "source": [
    "set_llm_cache(InMemoryCache())\n",
    "llama3b.predict(\"tell me ajoke\")"
   ]
  },
  {
   "cell_type": "code",
   "execution_count": 30,
   "metadata": {},
   "outputs": [
    {
     "data": {
      "text/plain": [
       "\"Why don't eggs tell jokes?\\n\\nBecause they'd crack each other up!\""
      ]
     },
     "execution_count": 30,
     "metadata": {},
     "output_type": "execute_result"
    }
   ],
   "source": [
    "llama3b.predict(\"tell me a joke\")"
   ]
  },
  {
   "cell_type": "code",
   "execution_count": 31,
   "metadata": {},
   "outputs": [
    {
     "data": {
      "text/plain": [
       "\"Here's one:\\n\\nWhat do you call a fake noodle?\\n\\n(Wait for it...)\\n\\nAn impasta!\""
      ]
     },
     "execution_count": 31,
     "metadata": {},
     "output_type": "execute_result"
    }
   ],
   "source": [
    "llama3b.predict(\"tell me first joke\")"
   ]
  },
  {
   "cell_type": "code",
   "execution_count": null,
   "metadata": {},
   "outputs": [],
   "source": []
  }
 ],
 "metadata": {
  "kernelspec": {
   "display_name": "Python 3",
   "language": "python",
   "name": "python3"
  },
  "language_info": {
   "codemirror_mode": {
    "name": "ipython",
    "version": 3
   },
   "file_extension": ".py",
   "mimetype": "text/x-python",
   "name": "python",
   "nbconvert_exporter": "python",
   "pygments_lexer": "ipython3",
   "version": "3.13.0"
  }
 },
 "nbformat": 4,
 "nbformat_minor": 2
}
