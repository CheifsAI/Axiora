{
 "cells": [
  {
   "cell_type": "code",
   "execution_count": 1,
   "metadata": {},
   "outputs": [],
   "source": [
    "from OprFuncs import csvpd\n",
    "from MainTemplate import drop_nulls\n",
    "from Models import llama3b"
   ]
  },
  {
   "cell_type": "code",
   "execution_count": 2,
   "metadata": {},
   "outputs": [
    {
     "name": "stderr",
     "output_type": "stream",
     "text": [
      "<>:1: SyntaxWarning: invalid escape sequence '\\W'\n",
      "<>:1: SyntaxWarning: invalid escape sequence '\\W'\n",
      "C:\\Users\\hasso\\AppData\\Local\\Temp\\ipykernel_3552\\3136535251.py:1: SyntaxWarning: invalid escape sequence '\\W'\n",
      "  df = csvpd(\"Test_Datasets\\WorldCupMatches.csv\")\n"
     ]
    }
   ],
   "source": [
    "df = csvpd(\"Test_Datasets\\WorldCupMatches.csv\")"
   ]
  },
  {
   "cell_type": "code",
   "execution_count": 3,
   "metadata": {},
   "outputs": [],
   "source": [
    "from MainTemplate import analysis_data"
   ]
  },
  {
   "cell_type": "code",
   "execution_count": 4,
   "metadata": {},
   "outputs": [
    {
     "name": "stderr",
     "output_type": "stream",
     "text": [
      "d:\\Courses\\codes\\Axiora\\MainTemplate.py:28: LangChainDeprecationWarning: The class `LLMChain` was deprecated in LangChain 0.1.17 and will be removed in 1.0. Use :meth:`~RunnableSequence, e.g., `prompt | llm`` instead.\n",
      "  analysis_chain = LLMChain(llm=llama3b, prompt=analysis_template)\n",
      "d:\\Courses\\codes\\Axiora\\MainTemplate.py:32: LangChainDeprecationWarning: The method `Chain.run` was deprecated in langchain 0.1.0 and will be removed in 1.0. Use :meth:`~invoke` instead.\n",
      "  analysis = analysis_chain.run(data_info=data_info)\n"
     ]
    },
    {
     "name": "stdout",
     "output_type": "stream",
     "text": [
      "Analysis Data:\n",
      " Based on the provided dataset, here are some key trends and patterns:\n",
      "\n",
      "1. **Year Trend**: The number of matches has been steadily increasing over the years, with a slight increase from 2015 to 2018. However, there's a sharp drop in 2020.\n",
      "\n",
      "2. **Home Team Goals Distribution**: The distribution of home team goals is relatively even, ranging from 0 to 10 goals per match. This suggests that home teams are performing similarly across different stages and rounds.\n",
      "\n",
      "3. **Away Team Goals Distribution**: The away team goals show a slightly different trend. While there's some variation in the number of goals scored by away teams, it seems that they tend to score fewer goals overall compared to their home team counterparts.\n",
      "\n",
      "4. **Attendance Trend**: Attendance has been steadily decreasing over the years, with a notable drop in 2020 due to various factors such as COVID-19 and other global events.\n",
      "\n",
      "5. **Referee Bias**: There's an apparent bias towards certain referees, who seem to have officiated more matches than their peers. This could be a concern for fair play and consistency in refereeing decisions.\n",
      "\n",
      "6. **Assistant 1 and Assistant 2 Distribution**: The distribution of assistant names seems random and doesn't reveal any significant patterns or biases.\n",
      "\n",
      "Now, let's analyze for any anomalies or outliers:\n",
      "\n",
      "1. **Outliers in Home Team Goals**: There are a few matches where the home team scores an unusually high number of goals (e.g., 12 goals in one match). While these instances might be due to exceptional circumstances, it's worth investigating further to understand their impact on the overall performance.\n",
      "\n",
      "2. **Outliers in Away Team Goals**: Similar to the home team goals, there are a few matches where the away team scores an unusually low number of goals (e.g., 0 goals in one match). This could indicate potential issues with the away team's performance or preparation.\n",
      "\n",
      "3. **High Attendance Events**: There are some events where attendance reaches extremely high numbers (e.g., over 100,000 spectators). While these events might be exceptional and not representative of the average attendance, it's worth exploring factors that contribute to such high attendance figures.\n",
      "\n",
      "4. **Low Attendance Events**: Conversely, there are also events with low attendance figures (e.g., fewer than 1,000 spectators). These events might be influenced by various factors, including location, time, or opponent quality.\n",
      "\n",
      "Recommendations and actionable insights:\n",
      "\n",
      "1. **Improve Home Team Goals Distribution**: Analyze the home team goals distribution to identify potential factors contributing to these discrepancies. This could involve exploring team performance metrics, player injuries, or other external factors.\n",
      "\n",
      "2. **Address Referee Bias**: Investigate the referee bias issue by analyzing refereeing decisions and their impact on match outcomes. This might involve implementing measures to promote fair play and consistency in refereeing decisions.\n",
      "\n",
      "3. **Enhance Assistant 1 and Assistant 2 Distribution**: While the assistant names appear random, it's essential to ensure that they are accurately recorded and not biased towards specific individuals or teams.\n",
      "\n",
      "4. **Optimize Attendance Management**: Analyze attendance figures to identify factors influencing high and low attendance events. This could involve examining marketing strategies, opponent quality, venue capacity, or other variables that might impact attendance numbers.\n",
      "\n",
      "5. **Explore Factors Contributing to High Attendance Events**: Investigate the characteristics of events with extremely high attendance figures to understand what contributes to these exceptional crowds. This could inform strategies for managing large events and enhancing fan engagement.\n",
      "\n",
      "6. **Address Low Attendance Events**: Identify factors contributing to low attendance events, such as location, time, or opponent quality. Develop targeted strategies to increase attendance numbers in these situations, potentially by adjusting match scheduling or promoting specific teams or players.\n",
      "\n",
      "By analyzing the dataset and identifying trends, anomalies, and potential biases, we can provide actionable insights for improving team performance, enhancing fan engagement, and addressing issues related to refereeing decisions and stadium capacity.\n"
     ]
    }
   ],
   "source": [
    "analysis_data(df,llm=llama3b)"
   ]
  },
  {
   "cell_type": "code",
   "execution_count": 5,
   "metadata": {},
   "outputs": [],
   "source": [
    "from MainTemplate import quetions_gen"
   ]
  },
  {
   "cell_type": "code",
   "execution_count": 8,
   "metadata": {},
   "outputs": [
    {
     "name": "stdout",
     "output_type": "stream",
     "text": [
      "Generated Questions:\n",
      " Here are five analysis questions based on the provided data:\n",
      "\n",
      "1. **What is the distribution of home team goals and away team goals throughout all seasons?**\n",
      "\n",
      "This question can be answered by analyzing the `Home Team Goals` and `Away Team Goals` columns, which are already defined as integers. A summary statistics table or a histogram plot would help visualize this distribution.\n",
      "\n",
      "2. **Which stadium(s) host the most matches in a single season?**\n",
      "\n",
      "To answer this question, you'll need to group the data by the `Stadium` column and then count the number of occurrences for each stadium. This can be done using the `value_counts()` function or a pivot table.\n",
      "\n",
      "3. **What is the average attendance for home teams compared to away teams in all seasons?**\n",
      "\n",
      "This analysis requires aggregating the data for both home and away teams separately, as well as calculating their respective mean values for the `Attendance` column. You can use the `groupby()` function and then apply an aggregation method like `mean()`.\n",
      "\n",
      "4. **How do the outcomes of matches (win/loss/draw) compare across different years?**\n",
      "\n",
      "To answer this question, you'll need to create a new column that represents the outcome of each match (e.g., \"Win,\" \"Loss,\" or \"Draw\"). Then, you can group the data by year and analyze the distribution of these outcomes. This could involve calculating proportions or using a bar plot.\n",
      "\n",
      "5. **Which stadium(s) have been associated with the highest number of wins for home teams?**\n",
      "\n",
      "This analysis involves grouping the data by `Stadium` and then calculating the frequency of wins (or another desired outcome metric) for each stadium. You can use a pivot table or the `groupby()` function to achieve this.\n",
      "\n",
      "These questions require different statistical techniques, such as summarizing distributions, comparing means, and analyzing categorical data. By answering these questions, you can gain insights into various aspects of the football league data.\n"
     ]
    }
   ],
   "source": [
    "questions = quetions_gen(5,llama3b,df)"
   ]
  },
  {
   "cell_type": "code",
   "execution_count": 11,
   "metadata": {},
   "outputs": [],
   "source": [
    "from Main import visual"
   ]
  },
  {
   "cell_type": "code",
   "execution_count": 12,
   "metadata": {},
   "outputs": [
    {
     "ename": "AttributeError",
     "evalue": "'DataFrame' object has no attribute 'invoke'",
     "output_type": "error",
     "traceback": [
      "\u001b[1;31m---------------------------------------------------------------------------\u001b[0m",
      "\u001b[1;31mAttributeError\u001b[0m                            Traceback (most recent call last)",
      "\u001b[1;32m~\\AppData\\Local\\Temp\\ipykernel_3552\\1051923845.py\u001b[0m in \u001b[0;36m?\u001b[1;34m()\u001b[0m\n\u001b[1;32m----> 1\u001b[1;33m \u001b[0mvisual\u001b[0m\u001b[1;33m(\u001b[0m\u001b[0mdf\u001b[0m\u001b[1;33m,\u001b[0m\u001b[0mllama3b\u001b[0m\u001b[1;33m,\u001b[0m\u001b[0mquestions\u001b[0m\u001b[1;33m)\u001b[0m\u001b[1;33m\u001b[0m\u001b[1;33m\u001b[0m\u001b[0m\n\u001b[0m",
      "\u001b[1;32md:\\Courses\\codes\\Axiora\\Main.py\u001b[0m in \u001b[0;36m?\u001b[1;34m(llm, data_info, questions)\u001b[0m\n\u001b[0;32m     17\u001b[0m \u001b[1;32mdef\u001b[0m \u001b[0mvisual\u001b[0m \u001b[1;33m(\u001b[0m\u001b[0mdataframe\u001b[0m\u001b[1;33m,\u001b[0m \u001b[0mllm\u001b[0m\u001b[1;33m,\u001b[0m \u001b[0mquestions\u001b[0m\u001b[1;33m)\u001b[0m\u001b[1;33m:\u001b[0m\u001b[1;33m\u001b[0m\u001b[1;33m\u001b[0m\u001b[0m\n\u001b[1;32m---> 18\u001b[1;33m     \u001b[0mdata_info\u001b[0m \u001b[1;33m=\u001b[0m \u001b[0mdata_infer\u001b[0m\u001b[1;33m(\u001b[0m\u001b[0mdataframe\u001b[0m\u001b[1;33m)\u001b[0m\u001b[1;33m\u001b[0m\u001b[1;33m\u001b[0m\u001b[0m\n\u001b[0m\u001b[0;32m     19\u001b[0m     \u001b[0mviscode\u001b[0m \u001b[1;33m=\u001b[0m \u001b[0mllm\u001b[0m\u001b[1;33m.\u001b[0m\u001b[0minvoke\u001b[0m\u001b[1;33m(\u001b[0m\u001b[1;33mf\"\u001b[0m\u001b[1;33mI already have a dataframe named 'df', Only create matplotlib code for each question in \u001b[0m\u001b[1;33m{\u001b[0m\u001b[0mquestions\u001b[0m\u001b[1;33m}\u001b[0m\u001b[1;33m with the columns \u001b[0m\u001b[1;33m{\u001b[0m\u001b[0mdata_info\u001b[0m\u001b[1;33m}\u001b[0m\u001b[1;33m in one python script\u001b[0m\u001b[1;33m\"\u001b[0m\u001b[1;33m)\u001b[0m\u001b[1;33m\u001b[0m\u001b[1;33m\u001b[0m\u001b[0m\n\u001b[0;32m     20\u001b[0m     \u001b[0mvisualcode\u001b[0m \u001b[1;33m=\u001b[0m \u001b[0mextract_code\u001b[0m\u001b[1;33m(\u001b[0m\u001b[0mviscode\u001b[0m\u001b[1;33m)\u001b[0m\u001b[1;33m\u001b[0m\u001b[1;33m\u001b[0m\u001b[0m\n\u001b[0;32m     21\u001b[0m     \u001b[1;32mreturn\u001b[0m \u001b[0mexec\u001b[0m\u001b[1;33m(\u001b[0m\u001b[0mvisualcode\u001b[0m\u001b[1;33m)\u001b[0m\u001b[1;33m\u001b[0m\u001b[1;33m\u001b[0m\u001b[0m\n",
      "\u001b[1;32mc:\\Users\\hasso\\AppData\\Local\\Programs\\Python\\Python312\\Lib\\site-packages\\pandas\\core\\generic.py\u001b[0m in \u001b[0;36m?\u001b[1;34m(self, name)\u001b[0m\n\u001b[0;32m   6200\u001b[0m             \u001b[1;32mand\u001b[0m \u001b[0mname\u001b[0m \u001b[1;32mnot\u001b[0m \u001b[1;32min\u001b[0m \u001b[0mself\u001b[0m\u001b[1;33m.\u001b[0m\u001b[0m_accessors\u001b[0m\u001b[1;33m\u001b[0m\u001b[1;33m\u001b[0m\u001b[0m\n\u001b[0;32m   6201\u001b[0m             \u001b[1;32mand\u001b[0m \u001b[0mself\u001b[0m\u001b[1;33m.\u001b[0m\u001b[0m_info_axis\u001b[0m\u001b[1;33m.\u001b[0m\u001b[0m_can_hold_identifiers_and_holds_name\u001b[0m\u001b[1;33m(\u001b[0m\u001b[0mname\u001b[0m\u001b[1;33m)\u001b[0m\u001b[1;33m\u001b[0m\u001b[1;33m\u001b[0m\u001b[0m\n\u001b[0;32m   6202\u001b[0m         \u001b[1;33m)\u001b[0m\u001b[1;33m:\u001b[0m\u001b[1;33m\u001b[0m\u001b[1;33m\u001b[0m\u001b[0m\n\u001b[0;32m   6203\u001b[0m             \u001b[1;32mreturn\u001b[0m \u001b[0mself\u001b[0m\u001b[1;33m[\u001b[0m\u001b[0mname\u001b[0m\u001b[1;33m]\u001b[0m\u001b[1;33m\u001b[0m\u001b[1;33m\u001b[0m\u001b[0m\n\u001b[1;32m-> 6204\u001b[1;33m         \u001b[1;32mreturn\u001b[0m \u001b[0mobject\u001b[0m\u001b[1;33m.\u001b[0m\u001b[0m__getattribute__\u001b[0m\u001b[1;33m(\u001b[0m\u001b[0mself\u001b[0m\u001b[1;33m,\u001b[0m \u001b[0mname\u001b[0m\u001b[1;33m)\u001b[0m\u001b[1;33m\u001b[0m\u001b[1;33m\u001b[0m\u001b[0m\n\u001b[0m",
      "\u001b[1;31mAttributeError\u001b[0m: 'DataFrame' object has no attribute 'invoke'"
     ]
    }
   ],
   "source": [
    "visual(df,llama3b,questions)"
   ]
  },
  {
   "cell_type": "code",
   "execution_count": null,
   "metadata": {},
   "outputs": [],
   "source": []
  }
 ],
 "metadata": {
  "kernelspec": {
   "display_name": "Python 3",
   "language": "python",
   "name": "python3"
  },
  "language_info": {
   "codemirror_mode": {
    "name": "ipython",
    "version": 3
   },
   "file_extension": ".py",
   "mimetype": "text/x-python",
   "name": "python",
   "nbconvert_exporter": "python",
   "pygments_lexer": "ipython3",
   "version": "3.12.0"
  }
 },
 "nbformat": 4,
 "nbformat_minor": 2
}
