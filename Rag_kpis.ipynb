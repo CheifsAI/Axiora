{
 "cells": [
  {
   "cell_type": "code",
   "execution_count": 23,
   "metadata": {},
   "outputs": [],
   "source": [
    "# Pdf reader\n",
    "from langchain_community.document_loaders import PyPDFLoader\n",
    "\n",
    "loader = PyPDFLoader('kpis.pdf')\n",
    "\n",
    "pdf_documnts = loader.load() \n"
   ]
  },
  {
   "cell_type": "code",
   "execution_count": 24,
   "metadata": {},
   "outputs": [],
   "source": [
    "# Text Split Document\n",
    "\n",
    "from langchain.text_splitter import RecursiveCharacterTextSplitter\n",
    "\n",
    "text_splitter = RecursiveCharacterTextSplitter(\n",
    "    chunk_size=1500,\n",
    "    chunk_overlap=300\n",
    ")\n",
    "\n",
    "documents = text_splitter.split_documents(pdf_documnts)\n"
   ]
  },
  {
   "cell_type": "code",
   "execution_count": 25,
   "metadata": {},
   "outputs": [],
   "source": [
    "## Vector Embedding and Vector Store\n",
    "from langchain_community.embeddings import OllamaEmbeddings\n",
    "from langchain_community.vectorstores import Chroma\n",
    "\n",
    "embedding_model = OllamaEmbeddings(model=\"mistral\")\n",
    "\n",
    "# Create a vector store from documents\n",
    "db = Chroma.from_documents(documents, embedding_model)"
   ]
  },
  {
   "cell_type": "code",
   "execution_count": 26,
   "metadata": {},
   "outputs": [
    {
     "name": "stdout",
     "output_type": "stream",
     "text": [
      "they are viewing only one page of the site (but contacting the company). Such\n",
      "companies are interested in page views and not bounce rate – an 80% bounce as\n",
      "rate might be perfectly acceptable.\n"
     ]
    }
   ],
   "source": [
    "# Query the database\n",
    "query = \"Why is this indicator important?\"\n",
    "\n",
    "response = db.similarity_search(query)\n",
    "\n",
    "# Clean the result content (remove unwanted tab characters and extra spaces)\n",
    "cleaned_response = response[0].page_content.replace('\\t', ' ').strip()\n",
    "\n",
    "print(cleaned_response)\n"
   ]
  }
 ],
 "metadata": {
  "kernelspec": {
   "display_name": "Python 3",
   "language": "python",
   "name": "python3"
  },
  "language_info": {
   "codemirror_mode": {
    "name": "ipython",
    "version": 3
   },
   "file_extension": ".py",
   "mimetype": "text/x-python",
   "name": "python",
   "nbconvert_exporter": "python",
   "pygments_lexer": "ipython3",
   "version": "3.12.3"
  }
 },
 "nbformat": 4,
 "nbformat_minor": 2
}
