{
 "cells": [
  {
   "cell_type": "code",
   "execution_count": 8,
   "metadata": {},
   "outputs": [],
   "source": [
    "from langchain_community.document_loaders import PyPDFLoader\n",
    "from langchain_community.document_loaders import PyPDFDirectoryLoader\n",
    "from langchain_community.embeddings import OllamaEmbeddings\n",
    "from langchain_community.embeddings import HuggingFaceBgeEmbeddings\n",
    "from langchain.text_splitter import RecursiveCharacterTextSplitter\n",
    "from langchain.chains.combine_documents import create_stuff_documents_chain\n",
    "from langchain_core.prompts import ChatPromptTemplate\n",
    "from langchain.chains import create_retrieval_chain, RetrievalQA\n",
    "from langchain_community.vectorstores import FAISS\n",
    "from langchain.prompts import PromptTemplate\n",
    "import numpy as np"
   ]
  },
  {
   "cell_type": "code",
   "execution_count": 3,
   "metadata": {},
   "outputs": [
    {
     "name": "stderr",
     "output_type": "stream",
     "text": [
      "C:\\Users\\AHMED ABD ELGWAD\\AppData\\Local\\Temp\\ipykernel_5708\\3602636715.py:12: LangChainDeprecationWarning: The class `OllamaEmbeddings` was deprecated in LangChain 0.3.1 and will be removed in 1.0.0. An updated version of the class exists in the :class:`~langchain-ollama package and should be used instead. To use it run `pip install -U :class:`~langchain-ollama` and import as `from :class:`~langchain_ollama import OllamaEmbeddings``.\n",
      "  embedding_model = OllamaEmbeddings(model=\"llama3.2:3b\")\n"
     ]
    }
   ],
   "source": [
    "## Read pdfs\n",
    "loader = PyPDFDirectoryLoader(\"./data\")\n",
    "docs = loader.load()\n",
    "\n",
    "# Initialize the text splitter\n",
    "text_splitter = RecursiveCharacterTextSplitter(chunk_size=1000, chunk_overlap=200)\n",
    "\n",
    "# Split the documents into chunks\n",
    "text_split = text_splitter.split_documents(docs)\n",
    "\n",
    "# Initialize the embedding model\n",
    "embedding_model = OllamaEmbeddings(model=\"llama3.2:3b\")\n",
    "\n",
    "# Initialize the vector database\n",
    "vector_db = FAISS.from_documents(text_split, embedding_model)"
   ]
  },
  {
   "cell_type": "code",
   "execution_count": 5,
   "metadata": {},
   "outputs": [
    {
     "name": "stdout",
     "output_type": "stream",
     "text": [
      "WARNING:tensorflow:From c:\\Users\\AHMED ABD ELGWAD\\AppData\\Local\\Programs\\Python\\Python312\\Lib\\site-packages\\tf_keras\\src\\losses.py:2976: The name tf.losses.sparse_softmax_cross_entropy is deprecated. Please use tf.compat.v1.losses.sparse_softmax_cross_entropy instead.\n",
      "\n"
     ]
    },
    {
     "data": {
      "application/vnd.jupyter.widget-view+json": {
       "model_id": "b2723ab5384a45c09b5d68c7f29285f1",
       "version_major": 2,
       "version_minor": 0
      },
      "text/plain": [
       "modules.json:   0%|          | 0.00/349 [00:00<?, ?B/s]"
      ]
     },
     "metadata": {},
     "output_type": "display_data"
    },
    {
     "name": "stderr",
     "output_type": "stream",
     "text": [
      "c:\\Users\\AHMED ABD ELGWAD\\AppData\\Local\\Programs\\Python\\Python312\\Lib\\site-packages\\huggingface_hub\\file_download.py:140: UserWarning: `huggingface_hub` cache-system uses symlinks by default to efficiently store duplicated files but your machine does not support them in C:\\Users\\AHMED ABD ELGWAD\\.cache\\huggingface\\hub\\models--BAAI--bge-small-en-v1.5. Caching files will still work but in a degraded version that might require more space on your disk. This warning can be disabled by setting the `HF_HUB_DISABLE_SYMLINKS_WARNING` environment variable. For more details, see https://huggingface.co/docs/huggingface_hub/how-to-cache#limitations.\n",
      "To support symlinks on Windows, you either need to activate Developer Mode or to run Python as an administrator. In order to activate developer mode, see this article: https://docs.microsoft.com/en-us/windows/apps/get-started/enable-your-device-for-development\n",
      "  warnings.warn(message)\n"
     ]
    },
    {
     "data": {
      "application/vnd.jupyter.widget-view+json": {
       "model_id": "c97774ed2d534728af84ce15d6dffc93",
       "version_major": 2,
       "version_minor": 0
      },
      "text/plain": [
       "config_sentence_transformers.json:   0%|          | 0.00/124 [00:00<?, ?B/s]"
      ]
     },
     "metadata": {},
     "output_type": "display_data"
    },
    {
     "data": {
      "application/vnd.jupyter.widget-view+json": {
       "model_id": "caf9d70cacce45ef9a44eb22f47c8b87",
       "version_major": 2,
       "version_minor": 0
      },
      "text/plain": [
       "README.md:   0%|          | 0.00/94.8k [00:00<?, ?B/s]"
      ]
     },
     "metadata": {},
     "output_type": "display_data"
    },
    {
     "data": {
      "application/vnd.jupyter.widget-view+json": {
       "model_id": "486a47f91bcd43bb8ca8a49205a81448",
       "version_major": 2,
       "version_minor": 0
      },
      "text/plain": [
       "sentence_bert_config.json:   0%|          | 0.00/52.0 [00:00<?, ?B/s]"
      ]
     },
     "metadata": {},
     "output_type": "display_data"
    },
    {
     "data": {
      "application/vnd.jupyter.widget-view+json": {
       "model_id": "15cbf062577d4ce291197170d99ef0ad",
       "version_major": 2,
       "version_minor": 0
      },
      "text/plain": [
       "config.json:   0%|          | 0.00/743 [00:00<?, ?B/s]"
      ]
     },
     "metadata": {},
     "output_type": "display_data"
    },
    {
     "data": {
      "application/vnd.jupyter.widget-view+json": {
       "model_id": "fbc59cc8d8ff44d49c952b03dca557e6",
       "version_major": 2,
       "version_minor": 0
      },
      "text/plain": [
       "model.safetensors:   0%|          | 0.00/133M [00:00<?, ?B/s]"
      ]
     },
     "metadata": {},
     "output_type": "display_data"
    },
    {
     "data": {
      "application/vnd.jupyter.widget-view+json": {
       "model_id": "00decca82e6b45c893d7dc674116fd28",
       "version_major": 2,
       "version_minor": 0
      },
      "text/plain": [
       "tokenizer_config.json:   0%|          | 0.00/366 [00:00<?, ?B/s]"
      ]
     },
     "metadata": {},
     "output_type": "display_data"
    },
    {
     "data": {
      "application/vnd.jupyter.widget-view+json": {
       "model_id": "86cca9e83be2439cbd764a7e724330b4",
       "version_major": 2,
       "version_minor": 0
      },
      "text/plain": [
       "vocab.txt:   0%|          | 0.00/232k [00:00<?, ?B/s]"
      ]
     },
     "metadata": {},
     "output_type": "display_data"
    },
    {
     "data": {
      "application/vnd.jupyter.widget-view+json": {
       "model_id": "f48cdb10cbb741c49c42ee95bb3fbf7e",
       "version_major": 2,
       "version_minor": 0
      },
      "text/plain": [
       "tokenizer.json:   0%|          | 0.00/711k [00:00<?, ?B/s]"
      ]
     },
     "metadata": {},
     "output_type": "display_data"
    },
    {
     "data": {
      "application/vnd.jupyter.widget-view+json": {
       "model_id": "47c6f5eb2bc448d18c5d57a1c59866f2",
       "version_major": 2,
       "version_minor": 0
      },
      "text/plain": [
       "special_tokens_map.json:   0%|          | 0.00/125 [00:00<?, ?B/s]"
      ]
     },
     "metadata": {},
     "output_type": "display_data"
    },
    {
     "data": {
      "application/vnd.jupyter.widget-view+json": {
       "model_id": "57f23603726945a7a23801a1735f07b0",
       "version_major": 2,
       "version_minor": 0
      },
      "text/plain": [
       "1_Pooling%2Fconfig.json:   0%|          | 0.00/190 [00:00<?, ?B/s]"
      ]
     },
     "metadata": {},
     "output_type": "display_data"
    }
   ],
   "source": [
    "# Embedding using Huggingface\n",
    "# generating text embeddings\n",
    "huggingface_embedding = HuggingFaceBgeEmbeddings(\n",
    "    model_name=\"BAAI/bge-small-en-v1.5\", # generating high-quality embeddings for English text\n",
    "    model_kwargs={'device':'cpu'},\n",
    "    encode_kwargs={'normalize_embeddings':True}\n",
    ")"
   ]
  },
  {
   "cell_type": "code",
   "execution_count": 10,
   "metadata": {},
   "outputs": [
    {
     "data": {
      "text/plain": [
       "array([-8.46568495e-02, -1.19098574e-02, -3.37892212e-02,  2.94559114e-02,\n",
       "        5.19159921e-02,  5.73839843e-02, -4.10017632e-02,  2.74267886e-02,\n",
       "       -1.05128169e-01, -1.58056002e-02,  7.94859007e-02,  5.64318374e-02,\n",
       "       -1.31764961e-02, -3.41544673e-02,  5.81598748e-03,  4.72547673e-02,\n",
       "       -1.30746821e-02,  3.12983012e-03, -3.44225504e-02,  3.08406167e-02,\n",
       "       -4.09085900e-02,  3.52737904e-02, -2.43761521e-02, -4.35831249e-02,\n",
       "        2.41503548e-02,  1.31986691e-02, -4.84453840e-03,  1.92347337e-02,\n",
       "       -5.43912724e-02, -1.42735019e-01,  5.15534543e-03,  2.93115471e-02,\n",
       "       -5.60811162e-02, -8.53530876e-03,  3.14141437e-02,  2.76736487e-02,\n",
       "       -2.06188187e-02,  8.24231505e-02,  4.15425301e-02,  5.79654723e-02,\n",
       "       -3.71587574e-02,  6.26160298e-03, -2.41389964e-02, -5.61800878e-03,\n",
       "       -2.51715519e-02,  5.04970923e-03, -2.52801571e-02, -2.91947275e-03,\n",
       "       -8.24043527e-03, -5.69604039e-02,  2.30822563e-02, -5.54217771e-03,\n",
       "        5.11555411e-02,  6.09937683e-02,  6.49766177e-02, -5.38514294e-02,\n",
       "        2.19109636e-02, -2.54194476e-02, -4.49223742e-02,  4.22459394e-02,\n",
       "        4.75252792e-02,  7.23248057e-04, -2.61084527e-01,  9.30173397e-02,\n",
       "        1.13597549e-02,  4.90668267e-02, -1.06286844e-02, -8.08728579e-03,\n",
       "       -1.53562399e-02, -5.33786416e-02, -6.89966604e-02,  4.75177988e-02,\n",
       "       -5.68596274e-02,  9.38643981e-03,  4.24065292e-02,  2.54346300e-02,\n",
       "        9.67098493e-03,  7.90793356e-03,  2.25161240e-02,  1.91008602e-03,\n",
       "        3.06091886e-02,  2.43991856e-02, -1.34115368e-02, -4.77401316e-02,\n",
       "        4.89939600e-02, -9.49417502e-02,  5.62894046e-02, -4.76261117e-02,\n",
       "        2.81447526e-02, -2.54329573e-02, -3.84951308e-02,  1.00940280e-02,\n",
       "        1.90482824e-04,  3.36625203e-02,  1.00182472e-02,  2.83523593e-02,\n",
       "       -2.68970500e-03, -6.96359156e-03, -3.54915783e-02,  3.42758924e-01,\n",
       "       -1.94496289e-02,  1.43988226e-02, -5.68817416e-03,  1.71480346e-02,\n",
       "       -2.88606179e-03, -5.81653565e-02,  6.35205070e-04,  5.17302612e-03,\n",
       "        2.06331983e-02,  1.65707674e-02,  2.15096641e-02, -2.38795299e-02,\n",
       "        2.89275534e-02,  4.67319414e-02, -3.56104411e-02, -1.05079003e-02,\n",
       "        3.70704420e-02,  1.57502629e-02,  9.43095237e-02, -2.50714906e-02,\n",
       "       -9.55966767e-03,  1.78565662e-02, -9.41780116e-03, -4.57858779e-02,\n",
       "        1.82930045e-02,  5.81431314e-02,  4.94311303e-02,  1.46350637e-01,\n",
       "        2.16057934e-02, -3.92895527e-02,  1.03241242e-01, -3.48300673e-02,\n",
       "       -6.61875447e-03,  7.07980711e-03,  9.27005894e-04,  4.49869223e-03,\n",
       "       -2.89777219e-02,  4.02419269e-02, -5.23188291e-03,  4.59961705e-02,\n",
       "        4.23971051e-03, -4.83795349e-03, -3.23241670e-03, -1.41072869e-01,\n",
       "       -3.76811214e-02,  1.83623850e-01, -2.96609476e-02,  4.90661003e-02,\n",
       "        3.90551686e-02, -1.57757532e-02, -3.86350974e-02,  4.65630442e-02,\n",
       "       -2.43486445e-02,  3.57695371e-02, -3.54946889e-02,  2.36265734e-02,\n",
       "       -3.41966108e-04,  3.11703663e-02, -2.39356291e-02, -5.94757721e-02,\n",
       "        6.06259331e-02, -3.81902047e-02, -7.04255104e-02,  1.42480060e-02,\n",
       "        3.34432460e-02, -3.85255069e-02, -1.71951372e-02, -7.12289363e-02,\n",
       "        2.64976472e-02,  1.09496107e-02,  1.32650593e-02,  3.89528349e-02,\n",
       "        1.60355009e-02, -3.17630097e-02,  1.02013692e-01,  2.92912088e-02,\n",
       "       -2.29205396e-02, -8.38065613e-03, -1.72172487e-02, -6.78821355e-02,\n",
       "        5.39421802e-03, -2.32347287e-02, -6.07406460e-02, -3.86575535e-02,\n",
       "       -1.54306591e-02, -3.84983644e-02, -5.02867624e-02,  5.04235253e-02,\n",
       "        4.94898185e-02, -1.41082983e-02, -2.98146531e-03,  9.76853698e-05,\n",
       "       -6.59189150e-02,  3.01006641e-02, -5.46592870e-04, -1.64787788e-02,\n",
       "       -5.21614626e-02, -3.30224074e-03,  4.75748479e-02, -3.40808444e-02,\n",
       "       -2.98660118e-02,  2.75015067e-02,  5.90206822e-03, -2.64044316e-03,\n",
       "       -1.61242764e-02,  2.05222424e-02,  1.21104680e-02, -5.49781919e-02,\n",
       "        5.10389358e-02, -7.92087801e-03,  7.25205941e-03,  3.51750813e-02,\n",
       "        3.66277024e-02,  5.67730749e-04,  2.60787662e-02,  2.50971112e-02,\n",
       "        1.14480685e-02, -2.54924856e-02,  1.96417607e-02,  2.84220092e-02,\n",
       "        2.82554049e-02,  6.57489672e-02,  9.26554501e-02, -2.68629611e-01,\n",
       "       -8.90481751e-04,  3.16914823e-03,  5.08356420e-03, -6.42101020e-02,\n",
       "       -4.56614308e-02, -4.62259315e-02,  3.60924564e-02,  8.29048455e-03,\n",
       "        8.92348886e-02,  5.68022393e-02,  6.91055879e-03, -1.08683817e-02,\n",
       "        9.36060622e-02,  1.03680333e-02, -8.60929787e-02,  1.77332759e-02,\n",
       "       -2.00802647e-02, -1.85124539e-02,  5.62386471e-04, -9.38340463e-03,\n",
       "        7.76064629e-03, -5.37272915e-02, -2.30028331e-02,  7.48890266e-02,\n",
       "       -1.29693272e-02,  6.53717667e-02, -4.24983054e-02, -7.10293651e-02,\n",
       "       -1.56803504e-02, -6.23029023e-02,  5.36034629e-02, -6.53212145e-03,\n",
       "       -1.15985543e-01,  6.70968443e-02,  1.93367545e-02, -6.67827651e-02,\n",
       "       -2.01758742e-03, -6.27637282e-02, -2.95005087e-02, -2.71986127e-02,\n",
       "        4.49796766e-02, -6.61587119e-02,  2.13751234e-02, -2.94077825e-02,\n",
       "       -5.71503453e-02,  4.05282043e-02,  7.11039752e-02, -6.80164695e-02,\n",
       "        2.11908817e-02,  1.30515248e-02, -2.91152745e-02, -2.25581843e-02,\n",
       "       -1.60189029e-02,  3.20554301e-02, -5.89459985e-02, -2.97131762e-02,\n",
       "        3.42682227e-02, -1.58375744e-02, -9.31770820e-03,  3.59834433e-02,\n",
       "        3.65341990e-03,  4.73319963e-02, -1.06234886e-02, -8.69728718e-03,\n",
       "       -4.38009314e-02,  5.94554003e-03, -2.41493639e-02, -7.79940486e-02,\n",
       "        1.46542592e-02,  1.05613722e-02,  5.45365736e-02, -3.17897163e-02,\n",
       "       -1.26763098e-02,  7.92554673e-03, -1.38132954e-02,  5.01396172e-02,\n",
       "       -7.28576537e-03, -5.23700332e-03, -5.32641001e-02,  4.78208698e-02,\n",
       "       -5.38353771e-02,  1.11437216e-02,  3.96674313e-02, -1.93496533e-02,\n",
       "        9.94821172e-03, -3.53475404e-03,  3.58563219e-03, -9.61501431e-03,\n",
       "        2.15323791e-02, -1.82350557e-02, -2.15189196e-02, -1.38835646e-02,\n",
       "       -1.76698938e-02,  3.37944279e-04, -3.84918298e-04, -2.25800648e-01,\n",
       "        4.51243073e-02,  1.53376674e-02, -1.76967625e-02, -1.42526142e-02,\n",
       "       -7.00279977e-03, -3.13724615e-02,  2.13674945e-03, -9.28345136e-03,\n",
       "       -1.66986212e-02,  4.66263704e-02,  7.71810040e-02,  1.26696959e-01,\n",
       "       -1.83595717e-02, -1.39636742e-02, -1.23301393e-03,  5.93338534e-02,\n",
       "       -1.37458462e-03,  1.98233277e-02, -2.92636175e-02,  4.96657006e-02,\n",
       "       -6.07207231e-02,  1.53544754e-01, -4.67309430e-02,  1.97028909e-02,\n",
       "       -7.67833665e-02, -7.73232337e-03,  3.71618606e-02, -3.00591234e-02,\n",
       "        8.30261316e-03,  2.06258856e-02,  1.97466556e-03,  3.39763984e-02,\n",
       "       -1.70869213e-02,  4.84796278e-02,  1.20781986e-02,  1.24999760e-02,\n",
       "        5.61724603e-02,  9.88546479e-03,  2.13879105e-02, -4.25293781e-02,\n",
       "       -1.94036998e-02,  2.47838516e-02,  1.37260389e-02,  6.41119480e-02,\n",
       "       -2.84480993e-02, -4.64116633e-02, -5.36255836e-02, -6.95004783e-05,\n",
       "        6.45709485e-02, -4.32018947e-04, -1.32470801e-02,  5.85137261e-03,\n",
       "        1.48595767e-02, -5.41847236e-02, -2.02038456e-02, -5.98262921e-02,\n",
       "        3.67029496e-02,  1.43320323e-03, -8.64467770e-03,  2.90671326e-02,\n",
       "        4.38365825e-02, -7.64942169e-02,  1.55718075e-02,  6.65830746e-02])"
      ]
     },
     "execution_count": 10,
     "metadata": {},
     "output_type": "execute_result"
    }
   ],
   "source": [
    "np.array(huggingface_embedding.embed_query(text_split[0].page_content))\n"
   ]
  }
 ],
 "metadata": {
  "kernelspec": {
   "display_name": "Python 3",
   "language": "python",
   "name": "python3"
  },
  "language_info": {
   "codemirror_mode": {
    "name": "ipython",
    "version": 3
   },
   "file_extension": ".py",
   "mimetype": "text/x-python",
   "name": "python",
   "nbconvert_exporter": "python",
   "pygments_lexer": "ipython3",
   "version": "3.12.3"
  }
 },
 "nbformat": 4,
 "nbformat_minor": 2
}
