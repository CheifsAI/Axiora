{
 "cells": [
  {
   "cell_type": "code",
   "execution_count": 1,
   "metadata": {},
   "outputs": [],
   "source": [
    "from langchain_community.document_loaders import PyPDFLoader\n",
    "from langchain_community.document_loaders import PyPDFDirectoryLoader\n",
    "from langchain_community.embeddings import OllamaEmbeddings\n",
    "from langchain_community.embeddings import HuggingFaceBgeEmbeddings\n",
    "from langchain.text_splitter import RecursiveCharacterTextSplitter\n",
    "from langchain.chains.combine_documents import create_stuff_documents_chain\n",
    "from langchain_core.prompts import ChatPromptTemplate\n",
    "from langchain.chains import create_retrieval_chain, RetrievalQA\n",
    "from langchain_community.vectorstores import FAISS\n",
    "from langchain.prompts import PromptTemplate\n",
    "import numpy as np"
   ]
  },
  {
   "cell_type": "code",
   "execution_count": null,
   "metadata": {},
   "outputs": [
    {
     "name": "stderr",
     "output_type": "stream",
     "text": [
      "C:\\Users\\AHMED ABD ELGWAD\\AppData\\Local\\Temp\\ipykernel_13656\\3629795972.py:12: LangChainDeprecationWarning: The class `OllamaEmbeddings` was deprecated in LangChain 0.3.1 and will be removed in 1.0.0. An updated version of the class exists in the :class:`~langchain-ollama package and should be used instead. To use it run `pip install -U :class:`~langchain-ollama` and import as `from :class:`~langchain_ollama import OllamaEmbeddings``.\n",
      "  embedding_model = OllamaEmbeddings(model=\"llama3.2:3b\")\n"
     ]
    }
   ],
   "source": [
    "# Load PDFs from directory\n",
    "loader = PyPDFDirectoryLoader(\"./data\")\n",
    "docs = loader.load()\n",
    "\n",
    "# Initialize the text splitter\n",
    "text_splitter = RecursiveCharacterTextSplitter(chunk_size=1000, chunk_overlap=200)\n",
    "\n",
    "# Split the documents into chunks\n",
    "text_split = text_splitter.split_documents(docs)\n",
    "\n",
    "# Initialize the embedding model\n",
    "embedding_model = OllamaEmbeddings(model=\"llama3.2:3b\")\n",
    "\n",
    "# Initialize the vector database\n",
    "vector_db = FAISS.from_documents(text_split, embedding_model)"
   ]
  },
  {
   "cell_type": "code",
   "execution_count": null,
   "metadata": {},
   "outputs": [],
   "source": [
    "# Embedding using Huggingface\n",
    "# generating text embeddings\n",
    "huggingface_embedding = HuggingFaceBgeEmbeddings(\n",
    "    model_name=\"BAAI/bge-small-en-v1.5\", # generating high-quality embeddings for English text\n",
    "    model_kwargs={'device':'cpu'},\n",
    "    encode_kwargs={'normalize_embeddings':True}\n",
    ")"
   ]
  },
  {
   "cell_type": "code",
   "execution_count": null,
   "metadata": {},
   "outputs": [
    {
     "data": {
      "text/plain": [
       "(384,)"
      ]
     },
     "execution_count": 57,
     "metadata": {},
     "output_type": "execute_result"
    }
   ],
   "source": [
    "np.array(huggingface_embedding.embed_query(text_split[0].page_content))\n",
    "np.array(huggingface_embedding.embed_query(text_split[0].page_content)).shape"
   ]
  },
  {
   "cell_type": "code",
   "execution_count": 58,
   "metadata": {},
   "outputs": [],
   "source": [
    "# Initialize the vector database\n",
    "db1 = FAISS.from_documents(text_split[:120], huggingface_embedding)\n"
   ]
  },
  {
   "cell_type": "code",
   "execution_count": 59,
   "metadata": {},
   "outputs": [
    {
     "data": {
      "text/plain": [
       "'2 U.S. Census Bureau\\nWHAT IS HEALTH INSURANCE COVERAGE?\\nThis brief presents state-level estimates of health insurance coverage \\nusing data from the American Community Survey (ACS). The  \\nU.S. Census Bureau conducts the ACS throughout the year; the \\nsurvey asks respondents to report their coverage at the time of \\ninterview. The resulting measure of health insurance coverage, \\ntherefore, reflects an annual average of current comprehensive \\nhealth insurance coverage status.* This uninsured rate measures a \\ndifferent concept than the measure based on the Current Population \\nSurvey Annual Social and Economic Supplement (CPS ASEC). \\nFor reporting purposes, the ACS broadly classifies health insurance \\ncoverage as private insurance or public insurance. The ACS defines \\nprivate health insurance as a plan provided through an employer \\nor a union, coverage purchased directly by an individual from an \\ninsurance company or through an exchange (such as healthcare.'"
      ]
     },
     "execution_count": 59,
     "metadata": {},
     "output_type": "execute_result"
    }
   ],
   "source": [
    "# Query the vector database\n",
    "query = \"WHAT IS HEALTH INSURANCE COVERAGE?\"\n",
    "\n",
    "search = db1.similarity_search(query)\n",
    "search[0].page_content"
   ]
  },
  {
   "cell_type": "code",
   "execution_count": 60,
   "metadata": {},
   "outputs": [
    {
     "data": {
      "text/plain": [
       "VectorStoreRetriever(tags=['FAISS', 'HuggingFaceBgeEmbeddings'], vectorstore=<langchain_community.vectorstores.faiss.FAISS object at 0x0000018705A37050>, search_kwargs={'k': 3})"
      ]
     },
     "execution_count": 60,
     "metadata": {},
     "output_type": "execute_result"
    }
   ],
   "source": [
    "# Initialize the retriever\n",
    "retriever = db1.as_retriever(search_type=\"similarity\",search_kwargs={\"k\":3})\n",
    "retriever"
   ]
  },
  {
   "cell_type": "code",
   "execution_count": null,
   "metadata": {},
   "outputs": [],
   "source": [
    "import os\n",
    "\n",
    "HUGGINGFACE_TOKEN = os.getenv(\"HUGGINGFACE_TOKEN\")"
   ]
  },
  {
   "cell_type": "code",
   "execution_count": 62,
   "metadata": {},
   "outputs": [
    {
     "name": "stderr",
     "output_type": "stream",
     "text": [
      "c:\\Users\\AHMED ABD ELGWAD\\AppData\\Local\\Programs\\Python\\Python312\\Lib\\site-packages\\huggingface_hub\\utils\\_deprecation.py:131: FutureWarning: 'post' (from 'huggingface_hub.inference._client') is deprecated and will be removed from version '0.31.0'. Making direct POST requests to the inference server is not supported anymore. Please use task methods instead (e.g. `InferenceClient.chat_completion`). If your use case is not supported, please open an issue in https://github.com/huggingface/huggingface_hub.\n",
      "  warnings.warn(warning_message, FutureWarning)\n"
     ]
    },
    {
     "data": {
      "text/plain": [
       "\"What is the health insurance coverage? Health insurance coverage is a type of insurance that covers the cost of medical and surgical expenses incurred by the insured. Here are some key aspects of health insurance coverage:\\n\\n1. **Types of Coverage:**\\n   - **Indemnity Plans:** These plans allow you to visit any healthcare provider, and the insurance company will reimburse you for a portion of the cost.\\n   - **Managed Care Plans:** These plans have networks of healthcare providers, and you typically need to choose a primary care physician (PCP) who will coordinate your care. Examples include HMOs (Health Maintenance Organizations) and PPOs (Preferred Provider Organizations).\\n   - **High-Deductible Health Plans (HDHPs):** These plans have lower premiums but higher deductibles. They often come with a Health Savings Account (HSA) for tax-advantaged savings.\\n\\n2. **What's Covered:**\\n   - **Preventive Care:** Regular check-ups, immunizations, screenings, and other services to prevent illness or detect it early.\\n   - **Inpatient and Outpatient Care:** Hospital stays, surgeries, and doctor visits.\\n   - **Prescription Drugs:** Medications prescribed by a healthcare provider.\\n   - **Mental Health Services:** Counseling, therapy, and sometimes inpatient treatment.\\n   - **Rehabilitative Services:** Physical therapy, speech-language pathology, and other services to help you recover from an injury or illness.\\n\\n3. **What's Not Covered:**\\n   - **Cosmetic Surgery:** Procedures that are purely for improving appearance, not health.\\n   - **Experimental Treatments:** Procedures that are still being studied or not widely accepted.\\n   - **Long-Term Care:** Assistance with daily living activities, like dressing, eating, and bathing, which is typically not covered by health insurance but may be covered by long-term care insurance.\\n\\n4. **Out-of-Pocket Costs:**\\n   - **Deductible:** The amount you must pay out-of-pocket before your insurance starts covering costs.\\n   - **Co-pay:** A fixed amount you pay for a specific service, like a doctor's visit or prescription.\\n   - **Co-insurance:** A percentage of the cost you pay after meeting your deductible.\\n   - **Out-of-Pocket Maximum:** The most you'll pay out-of-pocket in a year before your insurance covers 100% of the costs.\""
      ]
     },
     "execution_count": 62,
     "metadata": {},
     "output_type": "execute_result"
    }
   ],
   "source": [
    "from langchain_community.llms import HuggingFaceHub\n",
    "\n",
    "# Initialize the HuggingFaceHub model\n",
    "hf=HuggingFaceHub(\n",
    "    repo_id=\"mistralai/Mistral-7B-v0.1\",\n",
    "    model_kwargs={\"temperature\":0.1,\"max_length\":500}\n",
    ")\n",
    "\n",
    "query=\"What is the health insurance coverage?\"\n",
    "hf.invoke(query)"
   ]
  },
  {
   "cell_type": "code",
   "execution_count": 44,
   "metadata": {},
   "outputs": [],
   "source": [
    "prompt_template=\"\"\"\n",
    "Use the following piece of context to answer the question asked.\n",
    "Please try to provide the answer only based on the context\n",
    "\n",
    "{context}\n",
    "Question:{question}\n",
    "\n",
    "Helpful Answers:\n",
    "\"\"\""
   ]
  },
  {
   "cell_type": "code",
   "execution_count": 45,
   "metadata": {},
   "outputs": [],
   "source": [
    "prompt=PromptTemplate(\n",
    "    template=prompt_template,\n",
    "    input_variables=[\"context\",\"question\"]\n",
    ")\n"
   ]
  },
  {
   "cell_type": "code",
   "execution_count": 49,
   "metadata": {},
   "outputs": [],
   "source": [
    "# Create the RetrievalQA chain\n",
    "retrievalQA = RetrievalQA.from_chain_type(\n",
    "    llm=hf,\n",
    "    chain_type=\"stuff\",\n",
    "    retriever=retriever,\n",
    "    return_source_documents=True,\n",
    "    chain_type_kwargs={\"prompt\": prompt}\n",
    ")"
   ]
  },
  {
   "cell_type": "code",
   "execution_count": 50,
   "metadata": {},
   "outputs": [],
   "source": [
    "# Define the query\n",
    "query = \"DIFFERENCES IN THE UNINSURED RATE BY STATE IN 2022\""
   ]
  },
  {
   "cell_type": "code",
   "execution_count": 51,
   "metadata": {},
   "outputs": [
    {
     "name": "stderr",
     "output_type": "stream",
     "text": [
      "c:\\Users\\AHMED ABD ELGWAD\\AppData\\Local\\Programs\\Python\\Python312\\Lib\\site-packages\\huggingface_hub\\utils\\_deprecation.py:131: FutureWarning: 'post' (from 'huggingface_hub.inference._client') is deprecated and will be removed from version '0.31.0'. Making direct POST requests to the inference server is not supported anymore. Please use task methods instead (e.g. `InferenceClient.chat_completion`). If your use case is not supported, please open an issue in https://github.com/huggingface/huggingface_hub.\n",
      "  warnings.warn(warning_message, FutureWarning)\n"
     ]
    },
    {
     "name": "stdout",
     "output_type": "stream",
     "text": [
      "\n",
      "Use the following piece of context to answer the question asked.\n",
      "Please try to provide the answer only based on the context\n",
      "\n",
      "comparison of ACS and CPS ASEC measures \n",
      "of health insurance coverage, refer to < www.\n",
      "census.gov/topics/health/health-insurance/\n",
      "guidance.html >.\n",
      "9 Respondents may have more than one \n",
      "health insurance coverage type at the time \n",
      "of interview. As a result, adding the total \n",
      "number of people with private coverage and \n",
      "the total number with public coverage will \n",
      "sum to more than the total number with any \n",
      "coverage.• From 2021 to 2022, nine states \n",
      "reported increases in private \n",
      "coverage, while seven reported \n",
      "decreases (Appendix Table B-2). \n",
      "DIFFERENCES IN THE \n",
      "UNINSURED RATE BY STATE \n",
      "IN 2022\n",
      "In 2022, uninsured rates at the \n",
      "time of interview ranged across \n",
      "states from a low of 2.4 percent \n",
      "in Massachusetts to a high of 16.6 \n",
      "percent in Texas, compared to the \n",
      "national rate of 8.0 percent.10 Ten \n",
      "of the 15 states with uninsured \n",
      "10 The uninsured rates in the District \n",
      "of Columbia and Massachusetts were not \n",
      "statistically different.rates above the national aver -\n",
      "\n",
      "percent (Appendix Table B-5). \n",
      "Medicaid coverage accounted \n",
      "for a portion of that difference. \n",
      "Medicaid coverage was 22.7 per -\n",
      "cent in the group of states that \n",
      "expanded Medicaid eligibility and \n",
      "18.0 percent in the group of nonex -\n",
      "pansion states.\n",
      "CHANGES IN THE UNINSURED \n",
      "RATE BY STATE FROM 2021 \n",
      "TO 2022\n",
      "From 2021 to 2022, uninsured rates \n",
      "decreased across 27 states, while \n",
      "only Maine had an increase. The \n",
      "uninsured rate in Maine increased \n",
      "from 5.7 percent to 6.6 percent, \n",
      "although it remained below the \n",
      "national average. Maine’s uninsured \n",
      "rate was still below 8.0 percent, \n",
      "21 Douglas Conway and Breauna Branch, \n",
      "“Health Insurance Coverage Status and Type \n",
      "by Geography: 2019 and 2021,” 2022, < www.\n",
      "census.gov/content/dam/Census/library/\n",
      "publications/2022/acs/acsbr-013.pdf >.\n",
      "\n",
      "library/publications/2022/acs/acsbr-013.pdf >.\n",
      "39 In 2022, the private coverage rates were \n",
      "not statistically different in North Dakota and \n",
      "Utah.Figure /five.tab/period.tab\n",
      "Percentage of Uninsured People for the /two.tab/five.tab Most Populous Metropolitan \n",
      "Areas/colon.tab /two.tab/zero.tab/two.tab/one.tab and /two.tab/zero.tab/two.tab/two.tab\n",
      "(Civilian, noninstitutionalized population) /uni00A0\n",
      "* Denotes a statistically signiﬁcant change between 2021 and 2022 at the 90 percent conﬁdence level.\n",
      "Note: For information on conﬁdentiality protection, sampling error, nonsampling error, and deﬁnitions in the American Community\n",
      "Survey, refer to <https://www2.census.gov/programs-surveys/acs/tech_docs/accuracy/ACS_Accuracy_of_Data_2022.pdf>.\n",
      "Source: U.S. Census Bureau, 2021 and 2022 American Community Survey, 1-year estimates. Boston-Cambridge-Newton/comma.tab MA-NH\n",
      "San Francisco-Oakland-Berkeley/comma.tab CA\n",
      "*Detroit-Warren-Dearborn/comma.tab MI\n",
      "Question:DIFFERENCES IN THE UNINSURED RATE BY STATE IN 2022\n",
      "\n",
      "Helpful Answers:\n",
      "- The uninsured rate in Massachusetts was 2.4% in 2022.\n",
      "- The uninsured rate in Texas was 16.6% in 2022.\n",
      "- The national uninsured rate was 8.0% in 2022.\n",
      "- Ten states had uninsured rates above the national average of 8.0% in 2022.\n",
      "- Medicaid coverage was higher in states that expanded Medicaid eligibility (22.7%) compared to nonexpansion states (18.0%).\n",
      "- Maine was the only state with an increase in the uninsured rate from 2021 to 2022, increasing from 5.7% to 6.6%.\n",
      "- The private coverage rates in North Dakota and Utah were not statistically different in 2022.\n",
      "- The uninsured rates for the most populous metropolitan areas in 2022 were: Boston-Cambridge-Newton, MA-NH (3.5%), San Francisco-Oakland-Berkeley, CA (4.6%), and Detroit-Warren-Dearborn, MI (13.2%).\n"
     ]
    }
   ],
   "source": [
    "# Call the QA chain with our query.\n",
    "result = retrievalQA.invoke({\"query\": query})\n",
    "print(result['result'])"
   ]
  },
  {
   "cell_type": "code",
   "execution_count": null,
   "metadata": {},
   "outputs": [],
   "source": [
    "from langchain_community.document_loaders import PyPDFLoader\n",
    "from langchain_community.document_loaders import PyPDFDirectoryLoader\n",
    "from langchain_community.embeddings import OllamaEmbeddings\n",
    "from langchain_community.embeddings import HuggingFaceBgeEmbeddings\n",
    "from langchain.text_splitter import RecursiveCharacterTextSplitter\n",
    "from langchain.chains.combine_documents import create_stuff_documents_chain\n",
    "from langchain_core.prompts import ChatPromptTemplate\n",
    "from langchain.chains import create_retrieval_chain, RetrievalQA\n",
    "from langchain_community.vectorstores import FAISS\n",
    "from langchain.prompts import PromptTemplate\n",
    "import numpy as np\n",
    "import pandas as pd\n",
    "from Main import analysis_data  \n",
    "\n",
    "# ✅ 1. تحميل ملف CSV وتحويله إلى نصوص\n",
    "file_path = \"Regions.csv\"  # ضع اسم ملفك هنا\n",
    "df = pd.read_csv(file_path)  # قراءة ملف CSV\n",
    "\n",
    "# ✅ 2. تحويل كل صف إلى نص\n",
    "documents = []\n",
    "for index, row in df.iterrows():\n",
    "    text = \" | \".join([f\"{col}: {str(row[col])}\" for col in df.columns])  # تحويل كل صف إلى نص\n",
    "    documents.append(text)\n",
    "    \n",
    "# Initialize the text splitter\n",
    "text_splitter = RecursiveCharacterTextSplitter(chunk_size=1000, chunk_overlap=200)\n",
    "\n",
    "# Split the documents into chunks\n",
    "text_split = text_splitter.split_documents(docs)\n",
    "\n",
    "# Initialize the embedding model\n",
    "embedding_model = OllamaEmbeddings(model=\"llama3.2:3b\")\n",
    "\n",
    "# Initialize the vector database\n",
    "vector_db = FAISS.from_documents(text_split, embedding_model)\n",
    "\n",
    "# Embedding using Huggingface\n",
    "# generating text embeddings\n",
    "huggingface_embedding = HuggingFaceBgeEmbeddings(\n",
    "    model_name=\"BAAI/bge-small-en-v1.5\", # generating high-quality embeddings for English text\n",
    "    model_kwargs={'device':'cpu'},\n",
    "    encode_kwargs={'normalize_embeddings':True}\n",
    ")\n",
    "\n",
    "np.array(huggingface_embedding.embed_query(text_split[0].page_content))\n",
    "np.array(huggingface_embedding.embed_query(text_split[0].page_content)).shape\n",
    "\n",
    "db1 = FAISS.from_documents(text_split[:120], huggingface_embedding)\n",
    "\n",
    "# Query the vector database\n",
    "search = db1.similarity_search(query)\n",
    "search[0].page_content\n",
    "\n",
    "# Initialize the retriever\n",
    "retriever = db1.as_retriever(search_type=\"similarity\",search_kwargs={\"k\":3})\n",
    "retriever\n",
    "\n",
    "import os\n",
    "\n",
    "\n",
    "HUGGINGFACE_TOKEN = os.getenv(\"HUGGINGFACE_TOKEN\")\n",
    "\n",
    "from langchain_community.llms import HuggingFaceHub\n",
    "\n",
    "# Initialize the HuggingFaceHub model\n",
    "hf=HuggingFaceHub(\n",
    "    repo_id=\"mistralai/Mistral-7B-v0.1\",\n",
    "    model_kwargs={\"temperature\":0.1,\"max_length\":500}\n",
    ")\n",
    "\n",
    "query=\"Analyze the dataset\"\n",
    "hf.invoke(query)\n",
    "\n",
    "prompt_template=\"\"\"\n",
    "Use the following piece of context to answer the question asked.\n",
    "Please try to provide the answer only based on the context\n",
    "\n",
    "{context}\n",
    "Question:{question}\n",
    "\n",
    "Helpful Answers:\n",
    "\"\"\"\n",
    "\n",
    "prompt=PromptTemplate(\n",
    "    template=prompt_template,\n",
    "    input_variables=[\"context\",\"question\"]\n",
    ")\n",
    "\n",
    "# Create the RetrievalQA chain\n",
    "\n",
    "retrievalQA = RetrievalQA.from_chain_type(\n",
    "    llm=hf,\n",
    "    chain_type=\"stuff\",\n",
    "    retriever=retriever,\n",
    "    return_source_documents=True,\n",
    "    chain_type_kwargs={\"prompt\": prompt}\n",
    ")\n",
    "\n",
    "# Define the query\n",
    "query = analysis_data(df, retrievalQA)\n",
    "\n",
    "# Call the QA chain with our query.\n",
    "\n",
    "result = retrievalQA.invoke({\"query\": query})\n",
    "print(result['result'])"
   ]
  }
 ],
 "metadata": {
  "kernelspec": {
   "display_name": "Python 3",
   "language": "python",
   "name": "python3"
  },
  "language_info": {
   "codemirror_mode": {
    "name": "ipython",
    "version": 3
   },
   "file_extension": ".py",
   "mimetype": "text/x-python",
   "name": "python",
   "nbconvert_exporter": "python",
   "pygments_lexer": "ipython3",
   "version": "3.12.3"
  }
 },
 "nbformat": 4,
 "nbformat_minor": 2
}
